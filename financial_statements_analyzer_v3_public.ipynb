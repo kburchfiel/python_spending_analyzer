{
 "cells": [
  {
   "cell_type": "markdown",
   "metadata": {},
   "source": [
    "# Financial Statements Analyzer\n",
    "\n",
    "By Ken Burchfiel\n",
    "\n",
    "Released under the MIT license\n",
    "\n",
    "(More documentation to come!)"
   ]
  },
  {
   "cell_type": "code",
   "execution_count": 1,
   "metadata": {},
   "outputs": [],
   "source": [
    "import pandas as pd\n",
    "import numpy as np\n",
    "import os\n",
    "import time\n",
    "import plotly.express as px\n",
    "start_time = time.time()\n",
    "import matplotlib.pyplot as plt\n",
    "\n"
   ]
  },
  {
   "cell_type": "code",
   "execution_count": 2,
   "metadata": {},
   "outputs": [],
   "source": [
    "expenses_path = 'coded_transactions\\\\finances_updated_in_python_edited.csv' \n",
    "# The above path points to an edited copy of finances_updated_in_python.csv\n",
    "# in which I filled in missing subcodes.\n",
    "expense_codes_path = 'sample_finance_codes.csv'\n",
    "chart_data_folder = 'data_charts'"
   ]
  },
  {
   "cell_type": "code",
   "execution_count": 3,
   "metadata": {},
   "outputs": [],
   "source": [
    "# pd.set_option('display.max_rows', 300)"
   ]
  },
  {
   "cell_type": "code",
   "execution_count": 4,
   "metadata": {},
   "outputs": [
    {
     "data": {
      "text/html": [
       "<div>\n",
       "<style scoped>\n",
       "    .dataframe tbody tr th:only-of-type {\n",
       "        vertical-align: middle;\n",
       "    }\n",
       "\n",
       "    .dataframe tbody tr th {\n",
       "        vertical-align: top;\n",
       "    }\n",
       "\n",
       "    .dataframe thead th {\n",
       "        text-align: right;\n",
       "    }\n",
       "</style>\n",
       "<table border=\"1\" class=\"dataframe\">\n",
       "  <thead>\n",
       "    <tr style=\"text-align: right;\">\n",
       "      <th></th>\n",
       "      <th>Code</th>\n",
       "      <th>Subcode</th>\n",
       "      <th>Code_Description</th>\n",
       "      <th>Subcode_Description</th>\n",
       "    </tr>\n",
       "  </thead>\n",
       "  <tbody>\n",
       "    <tr>\n",
       "      <th>0</th>\n",
       "      <td>A</td>\n",
       "      <td>A-X</td>\n",
       "      <td>ATM</td>\n",
       "      <td>ATM Withdrawals</td>\n",
       "    </tr>\n",
       "    <tr>\n",
       "      <th>1</th>\n",
       "      <td>B</td>\n",
       "      <td>B-C</td>\n",
       "      <td>Basics</td>\n",
       "      <td>Convenience Stores</td>\n",
       "    </tr>\n",
       "    <tr>\n",
       "      <th>2</th>\n",
       "      <td>B</td>\n",
       "      <td>B-B</td>\n",
       "      <td>Basics</td>\n",
       "      <td>Books</td>\n",
       "    </tr>\n",
       "    <tr>\n",
       "      <th>3</th>\n",
       "      <td>B</td>\n",
       "      <td>B-F</td>\n",
       "      <td>Basics</td>\n",
       "      <td>Pets</td>\n",
       "    </tr>\n",
       "    <tr>\n",
       "      <th>4</th>\n",
       "      <td>B</td>\n",
       "      <td>B-G</td>\n",
       "      <td>Basics</td>\n",
       "      <td>Gifts</td>\n",
       "    </tr>\n",
       "    <tr>\n",
       "      <th>...</th>\n",
       "      <td>...</td>\n",
       "      <td>...</td>\n",
       "      <td>...</td>\n",
       "      <td>...</td>\n",
       "    </tr>\n",
       "    <tr>\n",
       "      <th>99</th>\n",
       "      <td>W</td>\n",
       "      <td>W-S</td>\n",
       "      <td>Clothing</td>\n",
       "      <td>Shoes</td>\n",
       "    </tr>\n",
       "    <tr>\n",
       "      <th>100</th>\n",
       "      <td>W</td>\n",
       "      <td>W-X</td>\n",
       "      <td>Clothing</td>\n",
       "      <td>Clothing--Other</td>\n",
       "    </tr>\n",
       "    <tr>\n",
       "      <th>101</th>\n",
       "      <td>X</td>\n",
       "      <td>X-X</td>\n",
       "      <td>Other</td>\n",
       "      <td>Other Expenses</td>\n",
       "    </tr>\n",
       "    <tr>\n",
       "      <th>102</th>\n",
       "      <td>Z</td>\n",
       "      <td>Z-C</td>\n",
       "      <td>Excluded</td>\n",
       "      <td>Credit Card Payments</td>\n",
       "    </tr>\n",
       "    <tr>\n",
       "      <th>103</th>\n",
       "      <td>Z</td>\n",
       "      <td>Z-X</td>\n",
       "      <td>Excluded</td>\n",
       "      <td>Other Excluded Expenses</td>\n",
       "    </tr>\n",
       "  </tbody>\n",
       "</table>\n",
       "<p>104 rows × 4 columns</p>\n",
       "</div>"
      ],
      "text/plain": [
       "    Code Subcode Code_Description      Subcode_Description\n",
       "0      A     A-X              ATM          ATM Withdrawals\n",
       "1      B     B-C           Basics       Convenience Stores\n",
       "2      B     B-B           Basics                    Books\n",
       "3      B     B-F           Basics                     Pets\n",
       "4      B     B-G           Basics                    Gifts\n",
       "..   ...     ...              ...                      ...\n",
       "99     W     W-S         Clothing                    Shoes\n",
       "100    W     W-X         Clothing          Clothing--Other\n",
       "101    X     X-X            Other           Other Expenses\n",
       "102    Z     Z-C         Excluded     Credit Card Payments\n",
       "103    Z     Z-X         Excluded  Other Excluded Expenses\n",
       "\n",
       "[104 rows x 4 columns]"
      ]
     },
     "execution_count": 4,
     "metadata": {},
     "output_type": "execute_result"
    }
   ],
   "source": [
    "expense_codes = pd.read_csv(expense_codes_path).drop('Notes', axis = 1)\n",
    "\n",
    "expense_codes"
   ]
  },
  {
   "cell_type": "markdown",
   "metadata": {},
   "source": [
    "## Reading in financial records with manual edits:"
   ]
  },
  {
   "cell_type": "code",
   "execution_count": 5,
   "metadata": {},
   "outputs": [
    {
     "data": {
      "text/html": [
       "<div>\n",
       "<style scoped>\n",
       "    .dataframe tbody tr th:only-of-type {\n",
       "        vertical-align: middle;\n",
       "    }\n",
       "\n",
       "    .dataframe tbody tr th {\n",
       "        vertical-align: top;\n",
       "    }\n",
       "\n",
       "    .dataframe thead th {\n",
       "        text-align: right;\n",
       "    }\n",
       "</style>\n",
       "<table border=\"1\" class=\"dataframe\">\n",
       "  <thead>\n",
       "    <tr style=\"text-align: right;\">\n",
       "      <th></th>\n",
       "      <th>Date</th>\n",
       "      <th>Amount</th>\n",
       "      <th>Description</th>\n",
       "      <th>Account_Type</th>\n",
       "      <th>Subcode</th>\n",
       "      <th>Month</th>\n",
       "    </tr>\n",
       "  </thead>\n",
       "  <tbody>\n",
       "    <tr>\n",
       "      <th>0</th>\n",
       "      <td>6/15/2022</td>\n",
       "      <td>-1.31</td>\n",
       "      <td>FOREIGN ATM SURCHARGE REBATE</td>\n",
       "      <td>truist_1</td>\n",
       "      <td>A-X</td>\n",
       "      <td>6</td>\n",
       "    </tr>\n",
       "    <tr>\n",
       "      <th>1</th>\n",
       "      <td>4/27/2022</td>\n",
       "      <td>13.50</td>\n",
       "      <td>JOES GOURMET DELI ATM NETWORK CASH WITHDRAWAL</td>\n",
       "      <td>truist_1</td>\n",
       "      <td>A-X</td>\n",
       "      <td>4</td>\n",
       "    </tr>\n",
       "    <tr>\n",
       "      <th>2</th>\n",
       "      <td>9/29/2022</td>\n",
       "      <td>-0.52</td>\n",
       "      <td>NEW YORK NY JOES GOURMET DELI FOREIGN ATM SURC...</td>\n",
       "      <td>truist_1</td>\n",
       "      <td>A-X</td>\n",
       "      <td>9</td>\n",
       "    </tr>\n",
       "    <tr>\n",
       "      <th>3</th>\n",
       "      <td>7/17/2022</td>\n",
       "      <td>0.12</td>\n",
       "      <td>LIBRERIA SAN PABLO 06-14 SEVILLA DEBIT CARD IN...</td>\n",
       "      <td>truist_1</td>\n",
       "      <td>B-B</td>\n",
       "      <td>7</td>\n",
       "    </tr>\n",
       "    <tr>\n",
       "      <th>4</th>\n",
       "      <td>4/1/2022</td>\n",
       "      <td>9.40</td>\n",
       "      <td>MAGNIFICAT</td>\n",
       "      <td>amex_1</td>\n",
       "      <td>B-B</td>\n",
       "      <td>4</td>\n",
       "    </tr>\n",
       "    <tr>\n",
       "      <th>...</th>\n",
       "      <td>...</td>\n",
       "      <td>...</td>\n",
       "      <td>...</td>\n",
       "      <td>...</td>\n",
       "      <td>...</td>\n",
       "      <td>...</td>\n",
       "    </tr>\n",
       "    <tr>\n",
       "      <th>299</th>\n",
       "      <td>5/4/2022</td>\n",
       "      <td>-17.34</td>\n",
       "      <td>ONLINE PAYMENT - THANK YOU</td>\n",
       "      <td>amex_1</td>\n",
       "      <td>Z-C</td>\n",
       "      <td>5</td>\n",
       "    </tr>\n",
       "    <tr>\n",
       "      <th>300</th>\n",
       "      <td>7/3/2022</td>\n",
       "      <td>-123.91</td>\n",
       "      <td>ONLINE PAYMENT - THANK YOU</td>\n",
       "      <td>amex_1</td>\n",
       "      <td>Z-C</td>\n",
       "      <td>7</td>\n",
       "    </tr>\n",
       "    <tr>\n",
       "      <th>301</th>\n",
       "      <td>10/29/2022</td>\n",
       "      <td>-163.57</td>\n",
       "      <td>ONLINE PAYMENT - THANK YOU</td>\n",
       "      <td>amex_1</td>\n",
       "      <td>Z-C</td>\n",
       "      <td>10</td>\n",
       "    </tr>\n",
       "    <tr>\n",
       "      <th>302</th>\n",
       "      <td>9/21/2022</td>\n",
       "      <td>-78.51</td>\n",
       "      <td>ONLINE PAYMENT - THANK YOU</td>\n",
       "      <td>amex_1</td>\n",
       "      <td>Z-C</td>\n",
       "      <td>9</td>\n",
       "    </tr>\n",
       "    <tr>\n",
       "      <th>303</th>\n",
       "      <td>3/19/2022</td>\n",
       "      <td>-327.39</td>\n",
       "      <td>MOBILE DEPOSIT</td>\n",
       "      <td>truist_1</td>\n",
       "      <td>Z-X</td>\n",
       "      <td>3</td>\n",
       "    </tr>\n",
       "  </tbody>\n",
       "</table>\n",
       "<p>304 rows × 6 columns</p>\n",
       "</div>"
      ],
      "text/plain": [
       "           Date  Amount                                        Description  \\\n",
       "0     6/15/2022   -1.31                       FOREIGN ATM SURCHARGE REBATE   \n",
       "1     4/27/2022   13.50      JOES GOURMET DELI ATM NETWORK CASH WITHDRAWAL   \n",
       "2     9/29/2022   -0.52  NEW YORK NY JOES GOURMET DELI FOREIGN ATM SURC...   \n",
       "3     7/17/2022    0.12  LIBRERIA SAN PABLO 06-14 SEVILLA DEBIT CARD IN...   \n",
       "4      4/1/2022    9.40                                         MAGNIFICAT   \n",
       "..          ...     ...                                                ...   \n",
       "299    5/4/2022  -17.34                         ONLINE PAYMENT - THANK YOU   \n",
       "300    7/3/2022 -123.91                         ONLINE PAYMENT - THANK YOU   \n",
       "301  10/29/2022 -163.57                         ONLINE PAYMENT - THANK YOU   \n",
       "302   9/21/2022  -78.51                         ONLINE PAYMENT - THANK YOU   \n",
       "303   3/19/2022 -327.39                                     MOBILE DEPOSIT   \n",
       "\n",
       "    Account_Type Subcode  Month  \n",
       "0       truist_1     A-X      6  \n",
       "1       truist_1     A-X      4  \n",
       "2       truist_1     A-X      9  \n",
       "3       truist_1     B-B      7  \n",
       "4         amex_1     B-B      4  \n",
       "..           ...     ...    ...  \n",
       "299       amex_1     Z-C      5  \n",
       "300       amex_1     Z-C      7  \n",
       "301       amex_1     Z-C     10  \n",
       "302       amex_1     Z-C      9  \n",
       "303     truist_1     Z-X      3  \n",
       "\n",
       "[304 rows x 6 columns]"
      ]
     },
     "execution_count": 5,
     "metadata": {},
     "output_type": "execute_result"
    }
   ],
   "source": [
    "df_expenses = pd.read_csv(expenses_path)\n",
    "df_expenses"
   ]
  },
  {
   "cell_type": "markdown",
   "metadata": {},
   "source": [
    "## Merging in expense codes, subcodes, and descriptions:"
   ]
  },
  {
   "cell_type": "code",
   "execution_count": 6,
   "metadata": {},
   "outputs": [
    {
     "data": {
      "text/html": [
       "<div>\n",
       "<style scoped>\n",
       "    .dataframe tbody tr th:only-of-type {\n",
       "        vertical-align: middle;\n",
       "    }\n",
       "\n",
       "    .dataframe tbody tr th {\n",
       "        vertical-align: top;\n",
       "    }\n",
       "\n",
       "    .dataframe thead th {\n",
       "        text-align: right;\n",
       "    }\n",
       "</style>\n",
       "<table border=\"1\" class=\"dataframe\">\n",
       "  <thead>\n",
       "    <tr style=\"text-align: right;\">\n",
       "      <th></th>\n",
       "      <th>Date</th>\n",
       "      <th>Amount</th>\n",
       "      <th>Description</th>\n",
       "      <th>Account_Type</th>\n",
       "      <th>Code</th>\n",
       "      <th>Subcode</th>\n",
       "      <th>Month</th>\n",
       "      <th>Code_Description</th>\n",
       "      <th>Subcode_Description</th>\n",
       "    </tr>\n",
       "  </thead>\n",
       "  <tbody>\n",
       "    <tr>\n",
       "      <th>0</th>\n",
       "      <td>6/15/2022</td>\n",
       "      <td>-1.31</td>\n",
       "      <td>FOREIGN ATM SURCHARGE REBATE</td>\n",
       "      <td>truist_1</td>\n",
       "      <td>A</td>\n",
       "      <td>A-X</td>\n",
       "      <td>6</td>\n",
       "      <td>ATM</td>\n",
       "      <td>ATM Withdrawals</td>\n",
       "    </tr>\n",
       "    <tr>\n",
       "      <th>1</th>\n",
       "      <td>4/27/2022</td>\n",
       "      <td>13.50</td>\n",
       "      <td>JOES GOURMET DELI ATM NETWORK CASH WITHDRAWAL</td>\n",
       "      <td>truist_1</td>\n",
       "      <td>A</td>\n",
       "      <td>A-X</td>\n",
       "      <td>4</td>\n",
       "      <td>ATM</td>\n",
       "      <td>ATM Withdrawals</td>\n",
       "    </tr>\n",
       "    <tr>\n",
       "      <th>2</th>\n",
       "      <td>9/29/2022</td>\n",
       "      <td>-0.52</td>\n",
       "      <td>NEW YORK NY JOES GOURMET DELI FOREIGN ATM SURC...</td>\n",
       "      <td>truist_1</td>\n",
       "      <td>A</td>\n",
       "      <td>A-X</td>\n",
       "      <td>9</td>\n",
       "      <td>ATM</td>\n",
       "      <td>ATM Withdrawals</td>\n",
       "    </tr>\n",
       "    <tr>\n",
       "      <th>3</th>\n",
       "      <td>7/17/2022</td>\n",
       "      <td>0.12</td>\n",
       "      <td>LIBRERIA SAN PABLO 06-14 SEVILLA DEBIT CARD IN...</td>\n",
       "      <td>truist_1</td>\n",
       "      <td>B</td>\n",
       "      <td>B-B</td>\n",
       "      <td>7</td>\n",
       "      <td>Basics</td>\n",
       "      <td>Books</td>\n",
       "    </tr>\n",
       "    <tr>\n",
       "      <th>4</th>\n",
       "      <td>4/1/2022</td>\n",
       "      <td>9.40</td>\n",
       "      <td>MAGNIFICAT</td>\n",
       "      <td>amex_1</td>\n",
       "      <td>B</td>\n",
       "      <td>B-B</td>\n",
       "      <td>4</td>\n",
       "      <td>Basics</td>\n",
       "      <td>Books</td>\n",
       "    </tr>\n",
       "    <tr>\n",
       "      <th>...</th>\n",
       "      <td>...</td>\n",
       "      <td>...</td>\n",
       "      <td>...</td>\n",
       "      <td>...</td>\n",
       "      <td>...</td>\n",
       "      <td>...</td>\n",
       "      <td>...</td>\n",
       "      <td>...</td>\n",
       "      <td>...</td>\n",
       "    </tr>\n",
       "    <tr>\n",
       "      <th>299</th>\n",
       "      <td>5/4/2022</td>\n",
       "      <td>-17.34</td>\n",
       "      <td>ONLINE PAYMENT - THANK YOU</td>\n",
       "      <td>amex_1</td>\n",
       "      <td>Z</td>\n",
       "      <td>Z-C</td>\n",
       "      <td>5</td>\n",
       "      <td>Excluded</td>\n",
       "      <td>Credit Card Payments</td>\n",
       "    </tr>\n",
       "    <tr>\n",
       "      <th>300</th>\n",
       "      <td>7/3/2022</td>\n",
       "      <td>-123.91</td>\n",
       "      <td>ONLINE PAYMENT - THANK YOU</td>\n",
       "      <td>amex_1</td>\n",
       "      <td>Z</td>\n",
       "      <td>Z-C</td>\n",
       "      <td>7</td>\n",
       "      <td>Excluded</td>\n",
       "      <td>Credit Card Payments</td>\n",
       "    </tr>\n",
       "    <tr>\n",
       "      <th>301</th>\n",
       "      <td>10/29/2022</td>\n",
       "      <td>-163.57</td>\n",
       "      <td>ONLINE PAYMENT - THANK YOU</td>\n",
       "      <td>amex_1</td>\n",
       "      <td>Z</td>\n",
       "      <td>Z-C</td>\n",
       "      <td>10</td>\n",
       "      <td>Excluded</td>\n",
       "      <td>Credit Card Payments</td>\n",
       "    </tr>\n",
       "    <tr>\n",
       "      <th>302</th>\n",
       "      <td>9/21/2022</td>\n",
       "      <td>-78.51</td>\n",
       "      <td>ONLINE PAYMENT - THANK YOU</td>\n",
       "      <td>amex_1</td>\n",
       "      <td>Z</td>\n",
       "      <td>Z-C</td>\n",
       "      <td>9</td>\n",
       "      <td>Excluded</td>\n",
       "      <td>Credit Card Payments</td>\n",
       "    </tr>\n",
       "    <tr>\n",
       "      <th>303</th>\n",
       "      <td>3/19/2022</td>\n",
       "      <td>-327.39</td>\n",
       "      <td>MOBILE DEPOSIT</td>\n",
       "      <td>truist_1</td>\n",
       "      <td>Z</td>\n",
       "      <td>Z-X</td>\n",
       "      <td>3</td>\n",
       "      <td>Excluded</td>\n",
       "      <td>Other Excluded Expenses</td>\n",
       "    </tr>\n",
       "  </tbody>\n",
       "</table>\n",
       "<p>304 rows × 9 columns</p>\n",
       "</div>"
      ],
      "text/plain": [
       "           Date  Amount                                        Description  \\\n",
       "0     6/15/2022   -1.31                       FOREIGN ATM SURCHARGE REBATE   \n",
       "1     4/27/2022   13.50      JOES GOURMET DELI ATM NETWORK CASH WITHDRAWAL   \n",
       "2     9/29/2022   -0.52  NEW YORK NY JOES GOURMET DELI FOREIGN ATM SURC...   \n",
       "3     7/17/2022    0.12  LIBRERIA SAN PABLO 06-14 SEVILLA DEBIT CARD IN...   \n",
       "4      4/1/2022    9.40                                         MAGNIFICAT   \n",
       "..          ...     ...                                                ...   \n",
       "299    5/4/2022  -17.34                         ONLINE PAYMENT - THANK YOU   \n",
       "300    7/3/2022 -123.91                         ONLINE PAYMENT - THANK YOU   \n",
       "301  10/29/2022 -163.57                         ONLINE PAYMENT - THANK YOU   \n",
       "302   9/21/2022  -78.51                         ONLINE PAYMENT - THANK YOU   \n",
       "303   3/19/2022 -327.39                                     MOBILE DEPOSIT   \n",
       "\n",
       "    Account_Type Code Subcode  Month Code_Description      Subcode_Description  \n",
       "0       truist_1    A     A-X      6              ATM          ATM Withdrawals  \n",
       "1       truist_1    A     A-X      4              ATM          ATM Withdrawals  \n",
       "2       truist_1    A     A-X      9              ATM          ATM Withdrawals  \n",
       "3       truist_1    B     B-B      7           Basics                    Books  \n",
       "4         amex_1    B     B-B      4           Basics                    Books  \n",
       "..           ...  ...     ...    ...              ...                      ...  \n",
       "299       amex_1    Z     Z-C      5         Excluded     Credit Card Payments  \n",
       "300       amex_1    Z     Z-C      7         Excluded     Credit Card Payments  \n",
       "301       amex_1    Z     Z-C     10         Excluded     Credit Card Payments  \n",
       "302       amex_1    Z     Z-C      9         Excluded     Credit Card Payments  \n",
       "303     truist_1    Z     Z-X      3         Excluded  Other Excluded Expenses  \n",
       "\n",
       "[304 rows x 9 columns]"
      ]
     },
     "execution_count": 6,
     "metadata": {},
     "output_type": "execute_result"
    }
   ],
   "source": [
    "df_expenses_merged = df_expenses.merge(expense_codes, on = 'Subcode', how = 'left')\n",
    "subcode_col = df_expenses_merged.columns.get_loc('Subcode')\n",
    "df_expenses_merged.insert(subcode_col, 'Code', df_expenses_merged.pop('Code')) \n",
    "# The above line positions the Code column before the Subcode column.\n",
    "df_expenses_merged"
   ]
  },
  {
   "cell_type": "code",
   "execution_count": 7,
   "metadata": {},
   "outputs": [],
   "source": [
    "pd.set_option('display.float_format', str)\n",
    "# Source: https://stackoverflow.com/a/21140339/13097194"
   ]
  },
  {
   "cell_type": "markdown",
   "metadata": {},
   "source": [
    "## Monthly spending/receipts per subcode:"
   ]
  },
  {
   "cell_type": "code",
   "execution_count": 8,
   "metadata": {},
   "outputs": [
    {
     "data": {
      "text/html": [
       "<div>\n",
       "<style scoped>\n",
       "    .dataframe tbody tr th:only-of-type {\n",
       "        vertical-align: middle;\n",
       "    }\n",
       "\n",
       "    .dataframe tbody tr th {\n",
       "        vertical-align: top;\n",
       "    }\n",
       "\n",
       "    .dataframe thead th {\n",
       "        text-align: right;\n",
       "    }\n",
       "</style>\n",
       "<table border=\"1\" class=\"dataframe\">\n",
       "  <thead>\n",
       "    <tr style=\"text-align: right;\">\n",
       "      <th></th>\n",
       "      <th>Month</th>\n",
       "      <th>Code</th>\n",
       "      <th>Subcode</th>\n",
       "      <th>Code_Description</th>\n",
       "      <th>Subcode_Description</th>\n",
       "      <th>Amount</th>\n",
       "    </tr>\n",
       "  </thead>\n",
       "  <tbody>\n",
       "    <tr>\n",
       "      <th>0</th>\n",
       "      <td>1</td>\n",
       "      <td>B</td>\n",
       "      <td>B-C</td>\n",
       "      <td>Basics</td>\n",
       "      <td>Convenience Stores</td>\n",
       "      <td>21.68</td>\n",
       "    </tr>\n",
       "    <tr>\n",
       "      <th>1</th>\n",
       "      <td>1</td>\n",
       "      <td>B</td>\n",
       "      <td>B-T</td>\n",
       "      <td>Basics</td>\n",
       "      <td>Local Public Transit</td>\n",
       "      <td>13.75</td>\n",
       "    </tr>\n",
       "    <tr>\n",
       "      <th>2</th>\n",
       "      <td>1</td>\n",
       "      <td>D</td>\n",
       "      <td>D-X</td>\n",
       "      <td>Dining</td>\n",
       "      <td>Dining Out</td>\n",
       "      <td>74.33</td>\n",
       "    </tr>\n",
       "    <tr>\n",
       "      <th>3</th>\n",
       "      <td>1</td>\n",
       "      <td>F</td>\n",
       "      <td>F-G</td>\n",
       "      <td>Food</td>\n",
       "      <td>Grocery Stores</td>\n",
       "      <td>3.71</td>\n",
       "    </tr>\n",
       "    <tr>\n",
       "      <th>4</th>\n",
       "      <td>1</td>\n",
       "      <td>H</td>\n",
       "      <td>H-F</td>\n",
       "      <td>Home</td>\n",
       "      <td>House Furnishings</td>\n",
       "      <td>8.29</td>\n",
       "    </tr>\n",
       "    <tr>\n",
       "      <th>...</th>\n",
       "      <td>...</td>\n",
       "      <td>...</td>\n",
       "      <td>...</td>\n",
       "      <td>...</td>\n",
       "      <td>...</td>\n",
       "      <td>...</td>\n",
       "    </tr>\n",
       "    <tr>\n",
       "      <th>118</th>\n",
       "      <td>12</td>\n",
       "      <td>H</td>\n",
       "      <td>H-F</td>\n",
       "      <td>Home</td>\n",
       "      <td>House Furnishings</td>\n",
       "      <td>48.39</td>\n",
       "    </tr>\n",
       "    <tr>\n",
       "      <th>119</th>\n",
       "      <td>12</td>\n",
       "      <td>H</td>\n",
       "      <td>H-M</td>\n",
       "      <td>Home</td>\n",
       "      <td>Moving</td>\n",
       "      <td>12.52</td>\n",
       "    </tr>\n",
       "    <tr>\n",
       "      <th>120</th>\n",
       "      <td>12</td>\n",
       "      <td>J</td>\n",
       "      <td>J-S</td>\n",
       "      <td>Non-Work Income</td>\n",
       "      <td>Investment Account Withdrawals</td>\n",
       "      <td>-155.0</td>\n",
       "    </tr>\n",
       "    <tr>\n",
       "      <th>121</th>\n",
       "      <td>12</td>\n",
       "      <td>L</td>\n",
       "      <td>L-X</td>\n",
       "      <td>Charity</td>\n",
       "      <td>Other Charitable Expenses</td>\n",
       "      <td>101.46000000000001</td>\n",
       "    </tr>\n",
       "    <tr>\n",
       "      <th>122</th>\n",
       "      <td>12</td>\n",
       "      <td>Z</td>\n",
       "      <td>Z-C</td>\n",
       "      <td>Excluded</td>\n",
       "      <td>Credit Card Payments</td>\n",
       "      <td>618.95</td>\n",
       "    </tr>\n",
       "  </tbody>\n",
       "</table>\n",
       "<p>123 rows × 6 columns</p>\n",
       "</div>"
      ],
      "text/plain": [
       "     Month Code Subcode Code_Description             Subcode_Description  \\\n",
       "0        1    B     B-C           Basics              Convenience Stores   \n",
       "1        1    B     B-T           Basics            Local Public Transit   \n",
       "2        1    D     D-X           Dining                      Dining Out   \n",
       "3        1    F     F-G             Food                  Grocery Stores   \n",
       "4        1    H     H-F             Home               House Furnishings   \n",
       "..     ...  ...     ...              ...                             ...   \n",
       "118     12    H     H-F             Home               House Furnishings   \n",
       "119     12    H     H-M             Home                          Moving   \n",
       "120     12    J     J-S  Non-Work Income  Investment Account Withdrawals   \n",
       "121     12    L     L-X          Charity       Other Charitable Expenses   \n",
       "122     12    Z     Z-C         Excluded            Credit Card Payments   \n",
       "\n",
       "                Amount  \n",
       "0                21.68  \n",
       "1                13.75  \n",
       "2                74.33  \n",
       "3                 3.71  \n",
       "4                 8.29  \n",
       "..                 ...  \n",
       "118              48.39  \n",
       "119              12.52  \n",
       "120             -155.0  \n",
       "121 101.46000000000001  \n",
       "122             618.95  \n",
       "\n",
       "[123 rows x 6 columns]"
      ]
     },
     "execution_count": 8,
     "metadata": {},
     "output_type": "execute_result"
    }
   ],
   "source": [
    "df_expenses_by_subcode_by_month = df_expenses_merged.pivot_table(index = ['Month', 'Code', 'Subcode', 'Code_Description', 'Subcode_Description'], values = 'Amount', aggfunc = 'sum').reset_index()\n",
    "df_expenses_by_subcode_by_month"
   ]
  },
  {
   "cell_type": "code",
   "execution_count": 9,
   "metadata": {},
   "outputs": [
    {
     "data": {
      "text/html": [
       "<div>\n",
       "<style scoped>\n",
       "    .dataframe tbody tr th:only-of-type {\n",
       "        vertical-align: middle;\n",
       "    }\n",
       "\n",
       "    .dataframe tbody tr th {\n",
       "        vertical-align: top;\n",
       "    }\n",
       "\n",
       "    .dataframe thead th {\n",
       "        text-align: right;\n",
       "    }\n",
       "</style>\n",
       "<table border=\"1\" class=\"dataframe\">\n",
       "  <thead>\n",
       "    <tr style=\"text-align: right;\">\n",
       "      <th></th>\n",
       "      <th>Code</th>\n",
       "      <th>Subcode</th>\n",
       "      <th>Code_Description</th>\n",
       "      <th>Subcode_Description</th>\n",
       "      <th>Amount</th>\n",
       "    </tr>\n",
       "  </thead>\n",
       "  <tbody>\n",
       "    <tr>\n",
       "      <th>0</th>\n",
       "      <td>A</td>\n",
       "      <td>A-X</td>\n",
       "      <td>ATM</td>\n",
       "      <td>ATM Withdrawals</td>\n",
       "      <td>11.67</td>\n",
       "    </tr>\n",
       "    <tr>\n",
       "      <th>1</th>\n",
       "      <td>B</td>\n",
       "      <td>B-B</td>\n",
       "      <td>Basics</td>\n",
       "      <td>Books</td>\n",
       "      <td>15.44</td>\n",
       "    </tr>\n",
       "    <tr>\n",
       "      <th>2</th>\n",
       "      <td>B</td>\n",
       "      <td>B-C</td>\n",
       "      <td>Basics</td>\n",
       "      <td>Convenience Stores</td>\n",
       "      <td>82.26</td>\n",
       "    </tr>\n",
       "    <tr>\n",
       "      <th>3</th>\n",
       "      <td>B</td>\n",
       "      <td>B-G</td>\n",
       "      <td>Basics</td>\n",
       "      <td>Gifts</td>\n",
       "      <td>90.39</td>\n",
       "    </tr>\n",
       "    <tr>\n",
       "      <th>4</th>\n",
       "      <td>B</td>\n",
       "      <td>B-R</td>\n",
       "      <td>Basics</td>\n",
       "      <td>Cabs and Rideshare</td>\n",
       "      <td>206.98000000000002</td>\n",
       "    </tr>\n",
       "    <tr>\n",
       "      <th>5</th>\n",
       "      <td>B</td>\n",
       "      <td>B-T</td>\n",
       "      <td>Basics</td>\n",
       "      <td>Local Public Transit</td>\n",
       "      <td>335.27</td>\n",
       "    </tr>\n",
       "    <tr>\n",
       "      <th>6</th>\n",
       "      <td>B</td>\n",
       "      <td>B-X</td>\n",
       "      <td>Basics</td>\n",
       "      <td>Basics--Other</td>\n",
       "      <td>11.28</td>\n",
       "    </tr>\n",
       "    <tr>\n",
       "      <th>7</th>\n",
       "      <td>D</td>\n",
       "      <td>D-X</td>\n",
       "      <td>Dining</td>\n",
       "      <td>Dining Out</td>\n",
       "      <td>689.43</td>\n",
       "    </tr>\n",
       "    <tr>\n",
       "      <th>8</th>\n",
       "      <td>E</td>\n",
       "      <td>E-S</td>\n",
       "      <td>Entertainment</td>\n",
       "      <td>Sports</td>\n",
       "      <td>22.32</td>\n",
       "    </tr>\n",
       "    <tr>\n",
       "      <th>9</th>\n",
       "      <td>E</td>\n",
       "      <td>E-W</td>\n",
       "      <td>Entertainment</td>\n",
       "      <td>Newspapers</td>\n",
       "      <td>12.0</td>\n",
       "    </tr>\n",
       "    <tr>\n",
       "      <th>10</th>\n",
       "      <td>F</td>\n",
       "      <td>F-A</td>\n",
       "      <td>Food</td>\n",
       "      <td>Beer/Wine/Liquor</td>\n",
       "      <td>10.54</td>\n",
       "    </tr>\n",
       "    <tr>\n",
       "      <th>11</th>\n",
       "      <td>F</td>\n",
       "      <td>F-G</td>\n",
       "      <td>Food</td>\n",
       "      <td>Grocery Stores</td>\n",
       "      <td>119.82</td>\n",
       "    </tr>\n",
       "    <tr>\n",
       "      <th>12</th>\n",
       "      <td>F</td>\n",
       "      <td>F-V</td>\n",
       "      <td>Food</td>\n",
       "      <td>Vending Machines</td>\n",
       "      <td>9.61</td>\n",
       "    </tr>\n",
       "    <tr>\n",
       "      <th>13</th>\n",
       "      <td>H</td>\n",
       "      <td>H-F</td>\n",
       "      <td>Home</td>\n",
       "      <td>House Furnishings</td>\n",
       "      <td>204.07999999999998</td>\n",
       "    </tr>\n",
       "    <tr>\n",
       "      <th>14</th>\n",
       "      <td>H</td>\n",
       "      <td>H-M</td>\n",
       "      <td>Home</td>\n",
       "      <td>Moving</td>\n",
       "      <td>12.52</td>\n",
       "    </tr>\n",
       "    <tr>\n",
       "      <th>15</th>\n",
       "      <td>H</td>\n",
       "      <td>H-R</td>\n",
       "      <td>Home</td>\n",
       "      <td>Rent</td>\n",
       "      <td>549.55</td>\n",
       "    </tr>\n",
       "    <tr>\n",
       "      <th>16</th>\n",
       "      <td>J</td>\n",
       "      <td>J-S</td>\n",
       "      <td>Non-Work Income</td>\n",
       "      <td>Investment Account Withdrawals</td>\n",
       "      <td>-855.0</td>\n",
       "    </tr>\n",
       "    <tr>\n",
       "      <th>17</th>\n",
       "      <td>L</td>\n",
       "      <td>L-G</td>\n",
       "      <td>Charity</td>\n",
       "      <td>Crowdsourced Donations</td>\n",
       "      <td>20.0</td>\n",
       "    </tr>\n",
       "    <tr>\n",
       "      <th>18</th>\n",
       "      <td>L</td>\n",
       "      <td>L-X</td>\n",
       "      <td>Charity</td>\n",
       "      <td>Other Charitable Expenses</td>\n",
       "      <td>556.3100000000001</td>\n",
       "    </tr>\n",
       "    <tr>\n",
       "      <th>19</th>\n",
       "      <td>M</td>\n",
       "      <td>M-E</td>\n",
       "      <td>Medical</td>\n",
       "      <td>Eye Care</td>\n",
       "      <td>6.12</td>\n",
       "    </tr>\n",
       "    <tr>\n",
       "      <th>20</th>\n",
       "      <td>P</td>\n",
       "      <td>P-A</td>\n",
       "      <td>Technology</td>\n",
       "      <td>Tech Accessories</td>\n",
       "      <td>102.57</td>\n",
       "    </tr>\n",
       "    <tr>\n",
       "      <th>21</th>\n",
       "      <td>P</td>\n",
       "      <td>P-G</td>\n",
       "      <td>Technology</td>\n",
       "      <td>Video/Computer Games</td>\n",
       "      <td>68.09</td>\n",
       "    </tr>\n",
       "    <tr>\n",
       "      <th>22</th>\n",
       "      <td>S</td>\n",
       "      <td>S-T</td>\n",
       "      <td>Payments</td>\n",
       "      <td>Investment Account Deposits</td>\n",
       "      <td>1050.0</td>\n",
       "    </tr>\n",
       "    <tr>\n",
       "      <th>23</th>\n",
       "      <td>T</td>\n",
       "      <td>T-A</td>\n",
       "      <td>Travel</td>\n",
       "      <td>Air Travel</td>\n",
       "      <td>771.5899999999999</td>\n",
       "    </tr>\n",
       "    <tr>\n",
       "      <th>24</th>\n",
       "      <td>T</td>\n",
       "      <td>T-E</td>\n",
       "      <td>Travel</td>\n",
       "      <td>Entertainment on Trips</td>\n",
       "      <td>21.95</td>\n",
       "    </tr>\n",
       "    <tr>\n",
       "      <th>25</th>\n",
       "      <td>T</td>\n",
       "      <td>T-F</td>\n",
       "      <td>Travel</td>\n",
       "      <td>Food on Trips</td>\n",
       "      <td>43.13</td>\n",
       "    </tr>\n",
       "    <tr>\n",
       "      <th>26</th>\n",
       "      <td>T</td>\n",
       "      <td>T-H</td>\n",
       "      <td>Travel</td>\n",
       "      <td>Hotels</td>\n",
       "      <td>132.3</td>\n",
       "    </tr>\n",
       "    <tr>\n",
       "      <th>27</th>\n",
       "      <td>T</td>\n",
       "      <td>T-S</td>\n",
       "      <td>Travel</td>\n",
       "      <td>Public Transit on Trips</td>\n",
       "      <td>80.67</td>\n",
       "    </tr>\n",
       "    <tr>\n",
       "      <th>28</th>\n",
       "      <td>T</td>\n",
       "      <td>T-X</td>\n",
       "      <td>Travel</td>\n",
       "      <td>General Travel Expenses</td>\n",
       "      <td>5.42</td>\n",
       "    </tr>\n",
       "    <tr>\n",
       "      <th>29</th>\n",
       "      <td>W</td>\n",
       "      <td>W-C</td>\n",
       "      <td>Clothing</td>\n",
       "      <td>Clothes</td>\n",
       "      <td>272.06</td>\n",
       "    </tr>\n",
       "    <tr>\n",
       "      <th>30</th>\n",
       "      <td>Z</td>\n",
       "      <td>Z-C</td>\n",
       "      <td>Excluded</td>\n",
       "      <td>Credit Card Payments</td>\n",
       "      <td>1694.85</td>\n",
       "    </tr>\n",
       "    <tr>\n",
       "      <th>31</th>\n",
       "      <td>Z</td>\n",
       "      <td>Z-X</td>\n",
       "      <td>Excluded</td>\n",
       "      <td>Other Excluded Expenses</td>\n",
       "      <td>-327.39</td>\n",
       "    </tr>\n",
       "  </tbody>\n",
       "</table>\n",
       "</div>"
      ],
      "text/plain": [
       "   Code Subcode Code_Description             Subcode_Description  \\\n",
       "0     A     A-X              ATM                 ATM Withdrawals   \n",
       "1     B     B-B           Basics                           Books   \n",
       "2     B     B-C           Basics              Convenience Stores   \n",
       "3     B     B-G           Basics                           Gifts   \n",
       "4     B     B-R           Basics              Cabs and Rideshare   \n",
       "5     B     B-T           Basics            Local Public Transit   \n",
       "6     B     B-X           Basics                   Basics--Other   \n",
       "7     D     D-X           Dining                      Dining Out   \n",
       "8     E     E-S    Entertainment                          Sports   \n",
       "9     E     E-W    Entertainment                      Newspapers   \n",
       "10    F     F-A             Food                Beer/Wine/Liquor   \n",
       "11    F     F-G             Food                  Grocery Stores   \n",
       "12    F     F-V             Food                Vending Machines   \n",
       "13    H     H-F             Home               House Furnishings   \n",
       "14    H     H-M             Home                          Moving   \n",
       "15    H     H-R             Home                            Rent   \n",
       "16    J     J-S  Non-Work Income  Investment Account Withdrawals   \n",
       "17    L     L-G          Charity          Crowdsourced Donations   \n",
       "18    L     L-X          Charity       Other Charitable Expenses   \n",
       "19    M     M-E          Medical                        Eye Care   \n",
       "20    P     P-A       Technology                Tech Accessories   \n",
       "21    P     P-G       Technology            Video/Computer Games   \n",
       "22    S     S-T         Payments     Investment Account Deposits   \n",
       "23    T     T-A           Travel                      Air Travel   \n",
       "24    T     T-E           Travel          Entertainment on Trips   \n",
       "25    T     T-F           Travel                   Food on Trips   \n",
       "26    T     T-H           Travel                          Hotels   \n",
       "27    T     T-S           Travel         Public Transit on Trips   \n",
       "28    T     T-X           Travel         General Travel Expenses   \n",
       "29    W     W-C         Clothing                         Clothes   \n",
       "30    Z     Z-C         Excluded            Credit Card Payments   \n",
       "31    Z     Z-X         Excluded         Other Excluded Expenses   \n",
       "\n",
       "               Amount  \n",
       "0               11.67  \n",
       "1               15.44  \n",
       "2               82.26  \n",
       "3               90.39  \n",
       "4  206.98000000000002  \n",
       "5              335.27  \n",
       "6               11.28  \n",
       "7              689.43  \n",
       "8               22.32  \n",
       "9                12.0  \n",
       "10              10.54  \n",
       "11             119.82  \n",
       "12               9.61  \n",
       "13 204.07999999999998  \n",
       "14              12.52  \n",
       "15             549.55  \n",
       "16             -855.0  \n",
       "17               20.0  \n",
       "18  556.3100000000001  \n",
       "19               6.12  \n",
       "20             102.57  \n",
       "21              68.09  \n",
       "22             1050.0  \n",
       "23  771.5899999999999  \n",
       "24              21.95  \n",
       "25              43.13  \n",
       "26              132.3  \n",
       "27              80.67  \n",
       "28               5.42  \n",
       "29             272.06  \n",
       "30            1694.85  \n",
       "31            -327.39  "
      ]
     },
     "execution_count": 9,
     "metadata": {},
     "output_type": "execute_result"
    }
   ],
   "source": [
    "df_expenses_by_subcode_by_year = df_expenses_merged.pivot_table(index = ['Code', 'Subcode', 'Code_Description', 'Subcode_Description'], values = 'Amount', aggfunc = 'sum').reset_index()\n",
    "df_expenses_by_subcode_by_year"
   ]
  },
  {
   "cell_type": "markdown",
   "metadata": {},
   "source": [
    "## Creating subsets of these lists that include only selected codes:"
   ]
  },
  {
   "cell_type": "code",
   "execution_count": 10,
   "metadata": {},
   "outputs": [
    {
     "data": {
      "text/html": [
       "<div>\n",
       "<style scoped>\n",
       "    .dataframe tbody tr th:only-of-type {\n",
       "        vertical-align: middle;\n",
       "    }\n",
       "\n",
       "    .dataframe tbody tr th {\n",
       "        vertical-align: top;\n",
       "    }\n",
       "\n",
       "    .dataframe thead th {\n",
       "        text-align: right;\n",
       "    }\n",
       "</style>\n",
       "<table border=\"1\" class=\"dataframe\">\n",
       "  <thead>\n",
       "    <tr style=\"text-align: right;\">\n",
       "      <th></th>\n",
       "      <th>Month</th>\n",
       "      <th>Code</th>\n",
       "      <th>Subcode</th>\n",
       "      <th>Code_Description</th>\n",
       "      <th>Subcode_Description</th>\n",
       "      <th>Amount</th>\n",
       "    </tr>\n",
       "  </thead>\n",
       "  <tbody>\n",
       "    <tr>\n",
       "      <th>0</th>\n",
       "      <td>1</td>\n",
       "      <td>B</td>\n",
       "      <td>B-C</td>\n",
       "      <td>Basics</td>\n",
       "      <td>Convenience Stores</td>\n",
       "      <td>21.68</td>\n",
       "    </tr>\n",
       "    <tr>\n",
       "      <th>1</th>\n",
       "      <td>1</td>\n",
       "      <td>B</td>\n",
       "      <td>B-T</td>\n",
       "      <td>Basics</td>\n",
       "      <td>Local Public Transit</td>\n",
       "      <td>13.75</td>\n",
       "    </tr>\n",
       "    <tr>\n",
       "      <th>2</th>\n",
       "      <td>1</td>\n",
       "      <td>D</td>\n",
       "      <td>D-X</td>\n",
       "      <td>Dining</td>\n",
       "      <td>Dining Out</td>\n",
       "      <td>74.33</td>\n",
       "    </tr>\n",
       "    <tr>\n",
       "      <th>3</th>\n",
       "      <td>1</td>\n",
       "      <td>F</td>\n",
       "      <td>F-G</td>\n",
       "      <td>Food</td>\n",
       "      <td>Grocery Stores</td>\n",
       "      <td>3.71</td>\n",
       "    </tr>\n",
       "    <tr>\n",
       "      <th>4</th>\n",
       "      <td>1</td>\n",
       "      <td>H</td>\n",
       "      <td>H-F</td>\n",
       "      <td>Home</td>\n",
       "      <td>House Furnishings</td>\n",
       "      <td>8.29</td>\n",
       "    </tr>\n",
       "    <tr>\n",
       "      <th>...</th>\n",
       "      <td>...</td>\n",
       "      <td>...</td>\n",
       "      <td>...</td>\n",
       "      <td>...</td>\n",
       "      <td>...</td>\n",
       "      <td>...</td>\n",
       "    </tr>\n",
       "    <tr>\n",
       "      <th>116</th>\n",
       "      <td>12</td>\n",
       "      <td>F</td>\n",
       "      <td>F-A</td>\n",
       "      <td>Food</td>\n",
       "      <td>Beer/Wine/Liquor</td>\n",
       "      <td>4.73</td>\n",
       "    </tr>\n",
       "    <tr>\n",
       "      <th>117</th>\n",
       "      <td>12</td>\n",
       "      <td>F</td>\n",
       "      <td>F-V</td>\n",
       "      <td>Food</td>\n",
       "      <td>Vending Machines</td>\n",
       "      <td>1.57</td>\n",
       "    </tr>\n",
       "    <tr>\n",
       "      <th>118</th>\n",
       "      <td>12</td>\n",
       "      <td>H</td>\n",
       "      <td>H-F</td>\n",
       "      <td>Home</td>\n",
       "      <td>House Furnishings</td>\n",
       "      <td>48.39</td>\n",
       "    </tr>\n",
       "    <tr>\n",
       "      <th>119</th>\n",
       "      <td>12</td>\n",
       "      <td>H</td>\n",
       "      <td>H-M</td>\n",
       "      <td>Home</td>\n",
       "      <td>Moving</td>\n",
       "      <td>12.52</td>\n",
       "    </tr>\n",
       "    <tr>\n",
       "      <th>121</th>\n",
       "      <td>12</td>\n",
       "      <td>L</td>\n",
       "      <td>L-X</td>\n",
       "      <td>Charity</td>\n",
       "      <td>Other Charitable Expenses</td>\n",
       "      <td>101.46000000000001</td>\n",
       "    </tr>\n",
       "  </tbody>\n",
       "</table>\n",
       "<p>106 rows × 6 columns</p>\n",
       "</div>"
      ],
      "text/plain": [
       "     Month Code Subcode Code_Description        Subcode_Description  \\\n",
       "0        1    B     B-C           Basics         Convenience Stores   \n",
       "1        1    B     B-T           Basics       Local Public Transit   \n",
       "2        1    D     D-X           Dining                 Dining Out   \n",
       "3        1    F     F-G             Food             Grocery Stores   \n",
       "4        1    H     H-F             Home          House Furnishings   \n",
       "..     ...  ...     ...              ...                        ...   \n",
       "116     12    F     F-A             Food           Beer/Wine/Liquor   \n",
       "117     12    F     F-V             Food           Vending Machines   \n",
       "118     12    H     H-F             Home          House Furnishings   \n",
       "119     12    H     H-M             Home                     Moving   \n",
       "121     12    L     L-X          Charity  Other Charitable Expenses   \n",
       "\n",
       "                Amount  \n",
       "0                21.68  \n",
       "1                13.75  \n",
       "2                74.33  \n",
       "3                 3.71  \n",
       "4                 8.29  \n",
       "..                 ...  \n",
       "116               4.73  \n",
       "117               1.57  \n",
       "118              48.39  \n",
       "119              12.52  \n",
       "121 101.46000000000001  \n",
       "\n",
       "[106 rows x 6 columns]"
      ]
     },
     "execution_count": 10,
     "metadata": {},
     "output_type": "execute_result"
    }
   ],
   "source": [
    "df_expenses_by_selected_subcodes_by_month = df_expenses_by_subcode_by_month.query(\"~Code.isin(['I', 'G', 'J', 'S', 'V', 'Z'])\").dropna(subset = 'Code').copy()\n",
    "df_expenses_by_selected_subcodes_by_month"
   ]
  },
  {
   "cell_type": "code",
   "execution_count": 11,
   "metadata": {},
   "outputs": [
    {
     "data": {
      "text/html": [
       "<div>\n",
       "<style scoped>\n",
       "    .dataframe tbody tr th:only-of-type {\n",
       "        vertical-align: middle;\n",
       "    }\n",
       "\n",
       "    .dataframe tbody tr th {\n",
       "        vertical-align: top;\n",
       "    }\n",
       "\n",
       "    .dataframe thead th {\n",
       "        text-align: right;\n",
       "    }\n",
       "</style>\n",
       "<table border=\"1\" class=\"dataframe\">\n",
       "  <thead>\n",
       "    <tr style=\"text-align: right;\">\n",
       "      <th></th>\n",
       "      <th>Month</th>\n",
       "      <th>Code</th>\n",
       "      <th>Code_Description</th>\n",
       "      <th>Amount</th>\n",
       "    </tr>\n",
       "  </thead>\n",
       "  <tbody>\n",
       "    <tr>\n",
       "      <th>0</th>\n",
       "      <td>1</td>\n",
       "      <td>B</td>\n",
       "      <td>Basics</td>\n",
       "      <td>35.43</td>\n",
       "    </tr>\n",
       "    <tr>\n",
       "      <th>1</th>\n",
       "      <td>1</td>\n",
       "      <td>D</td>\n",
       "      <td>Dining</td>\n",
       "      <td>74.33</td>\n",
       "    </tr>\n",
       "    <tr>\n",
       "      <th>2</th>\n",
       "      <td>1</td>\n",
       "      <td>F</td>\n",
       "      <td>Food</td>\n",
       "      <td>3.71</td>\n",
       "    </tr>\n",
       "    <tr>\n",
       "      <th>3</th>\n",
       "      <td>1</td>\n",
       "      <td>H</td>\n",
       "      <td>Home</td>\n",
       "      <td>8.29</td>\n",
       "    </tr>\n",
       "    <tr>\n",
       "      <th>4</th>\n",
       "      <td>1</td>\n",
       "      <td>L</td>\n",
       "      <td>Charity</td>\n",
       "      <td>168.99</td>\n",
       "    </tr>\n",
       "    <tr>\n",
       "      <th>...</th>\n",
       "      <td>...</td>\n",
       "      <td>...</td>\n",
       "      <td>...</td>\n",
       "      <td>...</td>\n",
       "    </tr>\n",
       "    <tr>\n",
       "      <th>68</th>\n",
       "      <td>12</td>\n",
       "      <td>D</td>\n",
       "      <td>Dining</td>\n",
       "      <td>80.64999999999999</td>\n",
       "    </tr>\n",
       "    <tr>\n",
       "      <th>69</th>\n",
       "      <td>12</td>\n",
       "      <td>E</td>\n",
       "      <td>Entertainment</td>\n",
       "      <td>8.0</td>\n",
       "    </tr>\n",
       "    <tr>\n",
       "      <th>70</th>\n",
       "      <td>12</td>\n",
       "      <td>F</td>\n",
       "      <td>Food</td>\n",
       "      <td>6.300000000000001</td>\n",
       "    </tr>\n",
       "    <tr>\n",
       "      <th>71</th>\n",
       "      <td>12</td>\n",
       "      <td>H</td>\n",
       "      <td>Home</td>\n",
       "      <td>60.91</td>\n",
       "    </tr>\n",
       "    <tr>\n",
       "      <th>72</th>\n",
       "      <td>12</td>\n",
       "      <td>L</td>\n",
       "      <td>Charity</td>\n",
       "      <td>101.46000000000001</td>\n",
       "    </tr>\n",
       "  </tbody>\n",
       "</table>\n",
       "<p>73 rows × 4 columns</p>\n",
       "</div>"
      ],
      "text/plain": [
       "    Month Code Code_Description             Amount\n",
       "0       1    B           Basics              35.43\n",
       "1       1    D           Dining              74.33\n",
       "2       1    F             Food               3.71\n",
       "3       1    H             Home               8.29\n",
       "4       1    L          Charity             168.99\n",
       "..    ...  ...              ...                ...\n",
       "68     12    D           Dining  80.64999999999999\n",
       "69     12    E    Entertainment                8.0\n",
       "70     12    F             Food  6.300000000000001\n",
       "71     12    H             Home              60.91\n",
       "72     12    L          Charity 101.46000000000001\n",
       "\n",
       "[73 rows x 4 columns]"
      ]
     },
     "execution_count": 11,
     "metadata": {},
     "output_type": "execute_result"
    }
   ],
   "source": [
    "df_expenses_by_selected_codes_by_month = df_expenses_by_selected_subcodes_by_month.pivot_table(index = ['Month', 'Code', 'Code_Description'], values = 'Amount', aggfunc = 'sum').reset_index()\n",
    "df_expenses_by_selected_codes_by_month\n",
    "# Useful for line charts"
   ]
  },
  {
   "cell_type": "code",
   "execution_count": 12,
   "metadata": {},
   "outputs": [
    {
     "data": {
      "text/html": [
       "<div>\n",
       "<style scoped>\n",
       "    .dataframe tbody tr th:only-of-type {\n",
       "        vertical-align: middle;\n",
       "    }\n",
       "\n",
       "    .dataframe tbody tr th {\n",
       "        vertical-align: top;\n",
       "    }\n",
       "\n",
       "    .dataframe thead th {\n",
       "        text-align: right;\n",
       "    }\n",
       "</style>\n",
       "<table border=\"1\" class=\"dataframe\">\n",
       "  <thead>\n",
       "    <tr style=\"text-align: right;\">\n",
       "      <th></th>\n",
       "      <th>Code</th>\n",
       "      <th>Subcode</th>\n",
       "      <th>Code_Description</th>\n",
       "      <th>Subcode_Description</th>\n",
       "      <th>Amount</th>\n",
       "    </tr>\n",
       "  </thead>\n",
       "  <tbody>\n",
       "    <tr>\n",
       "      <th>0</th>\n",
       "      <td>A</td>\n",
       "      <td>A-X</td>\n",
       "      <td>ATM</td>\n",
       "      <td>ATM Withdrawals</td>\n",
       "      <td>11.67</td>\n",
       "    </tr>\n",
       "    <tr>\n",
       "      <th>1</th>\n",
       "      <td>B</td>\n",
       "      <td>B-B</td>\n",
       "      <td>Basics</td>\n",
       "      <td>Books</td>\n",
       "      <td>15.44</td>\n",
       "    </tr>\n",
       "    <tr>\n",
       "      <th>2</th>\n",
       "      <td>B</td>\n",
       "      <td>B-C</td>\n",
       "      <td>Basics</td>\n",
       "      <td>Convenience Stores</td>\n",
       "      <td>82.26</td>\n",
       "    </tr>\n",
       "    <tr>\n",
       "      <th>3</th>\n",
       "      <td>B</td>\n",
       "      <td>B-G</td>\n",
       "      <td>Basics</td>\n",
       "      <td>Gifts</td>\n",
       "      <td>90.39</td>\n",
       "    </tr>\n",
       "    <tr>\n",
       "      <th>4</th>\n",
       "      <td>B</td>\n",
       "      <td>B-R</td>\n",
       "      <td>Basics</td>\n",
       "      <td>Cabs and Rideshare</td>\n",
       "      <td>206.98000000000002</td>\n",
       "    </tr>\n",
       "    <tr>\n",
       "      <th>5</th>\n",
       "      <td>B</td>\n",
       "      <td>B-T</td>\n",
       "      <td>Basics</td>\n",
       "      <td>Local Public Transit</td>\n",
       "      <td>335.27</td>\n",
       "    </tr>\n",
       "    <tr>\n",
       "      <th>6</th>\n",
       "      <td>B</td>\n",
       "      <td>B-X</td>\n",
       "      <td>Basics</td>\n",
       "      <td>Basics--Other</td>\n",
       "      <td>11.28</td>\n",
       "    </tr>\n",
       "    <tr>\n",
       "      <th>7</th>\n",
       "      <td>D</td>\n",
       "      <td>D-X</td>\n",
       "      <td>Dining</td>\n",
       "      <td>Dining Out</td>\n",
       "      <td>689.43</td>\n",
       "    </tr>\n",
       "    <tr>\n",
       "      <th>8</th>\n",
       "      <td>E</td>\n",
       "      <td>E-S</td>\n",
       "      <td>Entertainment</td>\n",
       "      <td>Sports</td>\n",
       "      <td>22.32</td>\n",
       "    </tr>\n",
       "    <tr>\n",
       "      <th>9</th>\n",
       "      <td>E</td>\n",
       "      <td>E-W</td>\n",
       "      <td>Entertainment</td>\n",
       "      <td>Newspapers</td>\n",
       "      <td>12.0</td>\n",
       "    </tr>\n",
       "    <tr>\n",
       "      <th>10</th>\n",
       "      <td>F</td>\n",
       "      <td>F-A</td>\n",
       "      <td>Food</td>\n",
       "      <td>Beer/Wine/Liquor</td>\n",
       "      <td>10.54</td>\n",
       "    </tr>\n",
       "    <tr>\n",
       "      <th>11</th>\n",
       "      <td>F</td>\n",
       "      <td>F-G</td>\n",
       "      <td>Food</td>\n",
       "      <td>Grocery Stores</td>\n",
       "      <td>119.82</td>\n",
       "    </tr>\n",
       "    <tr>\n",
       "      <th>12</th>\n",
       "      <td>F</td>\n",
       "      <td>F-V</td>\n",
       "      <td>Food</td>\n",
       "      <td>Vending Machines</td>\n",
       "      <td>9.61</td>\n",
       "    </tr>\n",
       "    <tr>\n",
       "      <th>13</th>\n",
       "      <td>H</td>\n",
       "      <td>H-F</td>\n",
       "      <td>Home</td>\n",
       "      <td>House Furnishings</td>\n",
       "      <td>204.07999999999998</td>\n",
       "    </tr>\n",
       "    <tr>\n",
       "      <th>14</th>\n",
       "      <td>H</td>\n",
       "      <td>H-M</td>\n",
       "      <td>Home</td>\n",
       "      <td>Moving</td>\n",
       "      <td>12.52</td>\n",
       "    </tr>\n",
       "    <tr>\n",
       "      <th>15</th>\n",
       "      <td>H</td>\n",
       "      <td>H-R</td>\n",
       "      <td>Home</td>\n",
       "      <td>Rent</td>\n",
       "      <td>549.55</td>\n",
       "    </tr>\n",
       "    <tr>\n",
       "      <th>17</th>\n",
       "      <td>L</td>\n",
       "      <td>L-G</td>\n",
       "      <td>Charity</td>\n",
       "      <td>Crowdsourced Donations</td>\n",
       "      <td>20.0</td>\n",
       "    </tr>\n",
       "    <tr>\n",
       "      <th>18</th>\n",
       "      <td>L</td>\n",
       "      <td>L-X</td>\n",
       "      <td>Charity</td>\n",
       "      <td>Other Charitable Expenses</td>\n",
       "      <td>556.3100000000001</td>\n",
       "    </tr>\n",
       "    <tr>\n",
       "      <th>19</th>\n",
       "      <td>M</td>\n",
       "      <td>M-E</td>\n",
       "      <td>Medical</td>\n",
       "      <td>Eye Care</td>\n",
       "      <td>6.12</td>\n",
       "    </tr>\n",
       "    <tr>\n",
       "      <th>20</th>\n",
       "      <td>P</td>\n",
       "      <td>P-A</td>\n",
       "      <td>Technology</td>\n",
       "      <td>Tech Accessories</td>\n",
       "      <td>102.57</td>\n",
       "    </tr>\n",
       "    <tr>\n",
       "      <th>21</th>\n",
       "      <td>P</td>\n",
       "      <td>P-G</td>\n",
       "      <td>Technology</td>\n",
       "      <td>Video/Computer Games</td>\n",
       "      <td>68.09</td>\n",
       "    </tr>\n",
       "    <tr>\n",
       "      <th>23</th>\n",
       "      <td>T</td>\n",
       "      <td>T-A</td>\n",
       "      <td>Travel</td>\n",
       "      <td>Air Travel</td>\n",
       "      <td>771.5899999999999</td>\n",
       "    </tr>\n",
       "    <tr>\n",
       "      <th>24</th>\n",
       "      <td>T</td>\n",
       "      <td>T-E</td>\n",
       "      <td>Travel</td>\n",
       "      <td>Entertainment on Trips</td>\n",
       "      <td>21.95</td>\n",
       "    </tr>\n",
       "    <tr>\n",
       "      <th>25</th>\n",
       "      <td>T</td>\n",
       "      <td>T-F</td>\n",
       "      <td>Travel</td>\n",
       "      <td>Food on Trips</td>\n",
       "      <td>43.13</td>\n",
       "    </tr>\n",
       "    <tr>\n",
       "      <th>26</th>\n",
       "      <td>T</td>\n",
       "      <td>T-H</td>\n",
       "      <td>Travel</td>\n",
       "      <td>Hotels</td>\n",
       "      <td>132.3</td>\n",
       "    </tr>\n",
       "    <tr>\n",
       "      <th>27</th>\n",
       "      <td>T</td>\n",
       "      <td>T-S</td>\n",
       "      <td>Travel</td>\n",
       "      <td>Public Transit on Trips</td>\n",
       "      <td>80.67</td>\n",
       "    </tr>\n",
       "    <tr>\n",
       "      <th>28</th>\n",
       "      <td>T</td>\n",
       "      <td>T-X</td>\n",
       "      <td>Travel</td>\n",
       "      <td>General Travel Expenses</td>\n",
       "      <td>5.42</td>\n",
       "    </tr>\n",
       "    <tr>\n",
       "      <th>29</th>\n",
       "      <td>W</td>\n",
       "      <td>W-C</td>\n",
       "      <td>Clothing</td>\n",
       "      <td>Clothes</td>\n",
       "      <td>272.06</td>\n",
       "    </tr>\n",
       "  </tbody>\n",
       "</table>\n",
       "</div>"
      ],
      "text/plain": [
       "   Code Subcode Code_Description        Subcode_Description             Amount\n",
       "0     A     A-X              ATM            ATM Withdrawals              11.67\n",
       "1     B     B-B           Basics                      Books              15.44\n",
       "2     B     B-C           Basics         Convenience Stores              82.26\n",
       "3     B     B-G           Basics                      Gifts              90.39\n",
       "4     B     B-R           Basics         Cabs and Rideshare 206.98000000000002\n",
       "5     B     B-T           Basics       Local Public Transit             335.27\n",
       "6     B     B-X           Basics              Basics--Other              11.28\n",
       "7     D     D-X           Dining                 Dining Out             689.43\n",
       "8     E     E-S    Entertainment                     Sports              22.32\n",
       "9     E     E-W    Entertainment                 Newspapers               12.0\n",
       "10    F     F-A             Food           Beer/Wine/Liquor              10.54\n",
       "11    F     F-G             Food             Grocery Stores             119.82\n",
       "12    F     F-V             Food           Vending Machines               9.61\n",
       "13    H     H-F             Home          House Furnishings 204.07999999999998\n",
       "14    H     H-M             Home                     Moving              12.52\n",
       "15    H     H-R             Home                       Rent             549.55\n",
       "17    L     L-G          Charity     Crowdsourced Donations               20.0\n",
       "18    L     L-X          Charity  Other Charitable Expenses  556.3100000000001\n",
       "19    M     M-E          Medical                   Eye Care               6.12\n",
       "20    P     P-A       Technology           Tech Accessories             102.57\n",
       "21    P     P-G       Technology       Video/Computer Games              68.09\n",
       "23    T     T-A           Travel                 Air Travel  771.5899999999999\n",
       "24    T     T-E           Travel     Entertainment on Trips              21.95\n",
       "25    T     T-F           Travel              Food on Trips              43.13\n",
       "26    T     T-H           Travel                     Hotels              132.3\n",
       "27    T     T-S           Travel    Public Transit on Trips              80.67\n",
       "28    T     T-X           Travel    General Travel Expenses               5.42\n",
       "29    W     W-C         Clothing                    Clothes             272.06"
      ]
     },
     "execution_count": 12,
     "metadata": {},
     "output_type": "execute_result"
    }
   ],
   "source": [
    "df_expenses_by_selected_subcodes_by_year = df_expenses_by_subcode_by_year.query(\"~Code.isin(['I', 'G', 'J', 'S', 'V', 'Z'])\").dropna(subset = 'Code').copy()\n",
    "df_expenses_by_selected_subcodes_by_year"
   ]
  },
  {
   "cell_type": "code",
   "execution_count": 13,
   "metadata": {},
   "outputs": [
    {
     "data": {
      "text/plain": [
       "4463.37"
      ]
     },
     "execution_count": 13,
     "metadata": {},
     "output_type": "execute_result"
    }
   ],
   "source": [
    "sum(df_expenses_by_selected_subcodes_by_year['Amount'])"
   ]
  },
  {
   "cell_type": "code",
   "execution_count": 14,
   "metadata": {},
   "outputs": [
    {
     "data": {
      "text/plain": [
       "4463.369999999999"
      ]
     },
     "execution_count": 14,
     "metadata": {},
     "output_type": "execute_result"
    }
   ],
   "source": [
    "sum(df_expenses_by_selected_subcodes_by_month['Amount'])"
   ]
  },
  {
   "cell_type": "markdown",
   "metadata": {},
   "source": [
    "## Visualizing spending through interactive Plotly bar charts:"
   ]
  },
  {
   "cell_type": "code",
   "execution_count": 15,
   "metadata": {},
   "outputs": [
    {
     "data": {
      "application/vnd.plotly.v1+json": {
       "config": {
        "plotlyServerURL": "https://plot.ly"
       },
       "data": [
        {
         "alignmentgroup": "True",
         "hovertemplate": "Subcode_Description=ATM Withdrawals<br>Code_Description=%{x}<br>Amount=%{y}<extra></extra>",
         "legendgroup": "ATM Withdrawals",
         "marker": {
          "color": "#636efa",
          "pattern": {
           "shape": ""
          }
         },
         "name": "ATM Withdrawals",
         "offsetgroup": "ATM Withdrawals",
         "orientation": "v",
         "showlegend": true,
         "textposition": "auto",
         "type": "bar",
         "x": [
          "ATM"
         ],
         "xaxis": "x",
         "y": [
          11.67
         ],
         "yaxis": "y"
        },
        {
         "alignmentgroup": "True",
         "hovertemplate": "Subcode_Description=Books<br>Code_Description=%{x}<br>Amount=%{y}<extra></extra>",
         "legendgroup": "Books",
         "marker": {
          "color": "#EF553B",
          "pattern": {
           "shape": ""
          }
         },
         "name": "Books",
         "offsetgroup": "Books",
         "orientation": "v",
         "showlegend": true,
         "textposition": "auto",
         "type": "bar",
         "x": [
          "Basics"
         ],
         "xaxis": "x",
         "y": [
          15.44
         ],
         "yaxis": "y"
        },
        {
         "alignmentgroup": "True",
         "hovertemplate": "Subcode_Description=Convenience Stores<br>Code_Description=%{x}<br>Amount=%{y}<extra></extra>",
         "legendgroup": "Convenience Stores",
         "marker": {
          "color": "#00cc96",
          "pattern": {
           "shape": ""
          }
         },
         "name": "Convenience Stores",
         "offsetgroup": "Convenience Stores",
         "orientation": "v",
         "showlegend": true,
         "textposition": "auto",
         "type": "bar",
         "x": [
          "Basics"
         ],
         "xaxis": "x",
         "y": [
          82.26
         ],
         "yaxis": "y"
        },
        {
         "alignmentgroup": "True",
         "hovertemplate": "Subcode_Description=Gifts<br>Code_Description=%{x}<br>Amount=%{y}<extra></extra>",
         "legendgroup": "Gifts",
         "marker": {
          "color": "#ab63fa",
          "pattern": {
           "shape": ""
          }
         },
         "name": "Gifts",
         "offsetgroup": "Gifts",
         "orientation": "v",
         "showlegend": true,
         "textposition": "auto",
         "type": "bar",
         "x": [
          "Basics"
         ],
         "xaxis": "x",
         "y": [
          90.39
         ],
         "yaxis": "y"
        },
        {
         "alignmentgroup": "True",
         "hovertemplate": "Subcode_Description=Cabs and Rideshare<br>Code_Description=%{x}<br>Amount=%{y}<extra></extra>",
         "legendgroup": "Cabs and Rideshare",
         "marker": {
          "color": "#FFA15A",
          "pattern": {
           "shape": ""
          }
         },
         "name": "Cabs and Rideshare",
         "offsetgroup": "Cabs and Rideshare",
         "orientation": "v",
         "showlegend": true,
         "textposition": "auto",
         "type": "bar",
         "x": [
          "Basics"
         ],
         "xaxis": "x",
         "y": [
          206.98000000000002
         ],
         "yaxis": "y"
        },
        {
         "alignmentgroup": "True",
         "hovertemplate": "Subcode_Description=Local Public Transit<br>Code_Description=%{x}<br>Amount=%{y}<extra></extra>",
         "legendgroup": "Local Public Transit",
         "marker": {
          "color": "#19d3f3",
          "pattern": {
           "shape": ""
          }
         },
         "name": "Local Public Transit",
         "offsetgroup": "Local Public Transit",
         "orientation": "v",
         "showlegend": true,
         "textposition": "auto",
         "type": "bar",
         "x": [
          "Basics"
         ],
         "xaxis": "x",
         "y": [
          335.27
         ],
         "yaxis": "y"
        },
        {
         "alignmentgroup": "True",
         "hovertemplate": "Subcode_Description=Basics--Other<br>Code_Description=%{x}<br>Amount=%{y}<extra></extra>",
         "legendgroup": "Basics--Other",
         "marker": {
          "color": "#FF6692",
          "pattern": {
           "shape": ""
          }
         },
         "name": "Basics--Other",
         "offsetgroup": "Basics--Other",
         "orientation": "v",
         "showlegend": true,
         "textposition": "auto",
         "type": "bar",
         "x": [
          "Basics"
         ],
         "xaxis": "x",
         "y": [
          11.28
         ],
         "yaxis": "y"
        },
        {
         "alignmentgroup": "True",
         "hovertemplate": "Subcode_Description=Dining Out<br>Code_Description=%{x}<br>Amount=%{y}<extra></extra>",
         "legendgroup": "Dining Out",
         "marker": {
          "color": "#B6E880",
          "pattern": {
           "shape": ""
          }
         },
         "name": "Dining Out",
         "offsetgroup": "Dining Out",
         "orientation": "v",
         "showlegend": true,
         "textposition": "auto",
         "type": "bar",
         "x": [
          "Dining"
         ],
         "xaxis": "x",
         "y": [
          689.43
         ],
         "yaxis": "y"
        },
        {
         "alignmentgroup": "True",
         "hovertemplate": "Subcode_Description=Sports<br>Code_Description=%{x}<br>Amount=%{y}<extra></extra>",
         "legendgroup": "Sports",
         "marker": {
          "color": "#FF97FF",
          "pattern": {
           "shape": ""
          }
         },
         "name": "Sports",
         "offsetgroup": "Sports",
         "orientation": "v",
         "showlegend": true,
         "textposition": "auto",
         "type": "bar",
         "x": [
          "Entertainment"
         ],
         "xaxis": "x",
         "y": [
          22.32
         ],
         "yaxis": "y"
        },
        {
         "alignmentgroup": "True",
         "hovertemplate": "Subcode_Description=Newspapers<br>Code_Description=%{x}<br>Amount=%{y}<extra></extra>",
         "legendgroup": "Newspapers",
         "marker": {
          "color": "#FECB52",
          "pattern": {
           "shape": ""
          }
         },
         "name": "Newspapers",
         "offsetgroup": "Newspapers",
         "orientation": "v",
         "showlegend": true,
         "textposition": "auto",
         "type": "bar",
         "x": [
          "Entertainment"
         ],
         "xaxis": "x",
         "y": [
          12
         ],
         "yaxis": "y"
        },
        {
         "alignmentgroup": "True",
         "hovertemplate": "Subcode_Description=Beer/Wine/Liquor<br>Code_Description=%{x}<br>Amount=%{y}<extra></extra>",
         "legendgroup": "Beer/Wine/Liquor",
         "marker": {
          "color": "#636efa",
          "pattern": {
           "shape": ""
          }
         },
         "name": "Beer/Wine/Liquor",
         "offsetgroup": "Beer/Wine/Liquor",
         "orientation": "v",
         "showlegend": true,
         "textposition": "auto",
         "type": "bar",
         "x": [
          "Food"
         ],
         "xaxis": "x",
         "y": [
          10.54
         ],
         "yaxis": "y"
        },
        {
         "alignmentgroup": "True",
         "hovertemplate": "Subcode_Description=Grocery Stores<br>Code_Description=%{x}<br>Amount=%{y}<extra></extra>",
         "legendgroup": "Grocery Stores",
         "marker": {
          "color": "#EF553B",
          "pattern": {
           "shape": ""
          }
         },
         "name": "Grocery Stores",
         "offsetgroup": "Grocery Stores",
         "orientation": "v",
         "showlegend": true,
         "textposition": "auto",
         "type": "bar",
         "x": [
          "Food"
         ],
         "xaxis": "x",
         "y": [
          119.82
         ],
         "yaxis": "y"
        },
        {
         "alignmentgroup": "True",
         "hovertemplate": "Subcode_Description=Vending Machines<br>Code_Description=%{x}<br>Amount=%{y}<extra></extra>",
         "legendgroup": "Vending Machines",
         "marker": {
          "color": "#00cc96",
          "pattern": {
           "shape": ""
          }
         },
         "name": "Vending Machines",
         "offsetgroup": "Vending Machines",
         "orientation": "v",
         "showlegend": true,
         "textposition": "auto",
         "type": "bar",
         "x": [
          "Food"
         ],
         "xaxis": "x",
         "y": [
          9.61
         ],
         "yaxis": "y"
        },
        {
         "alignmentgroup": "True",
         "hovertemplate": "Subcode_Description=House Furnishings<br>Code_Description=%{x}<br>Amount=%{y}<extra></extra>",
         "legendgroup": "House Furnishings",
         "marker": {
          "color": "#ab63fa",
          "pattern": {
           "shape": ""
          }
         },
         "name": "House Furnishings",
         "offsetgroup": "House Furnishings",
         "orientation": "v",
         "showlegend": true,
         "textposition": "auto",
         "type": "bar",
         "x": [
          "Home"
         ],
         "xaxis": "x",
         "y": [
          204.07999999999998
         ],
         "yaxis": "y"
        },
        {
         "alignmentgroup": "True",
         "hovertemplate": "Subcode_Description=Moving<br>Code_Description=%{x}<br>Amount=%{y}<extra></extra>",
         "legendgroup": "Moving",
         "marker": {
          "color": "#FFA15A",
          "pattern": {
           "shape": ""
          }
         },
         "name": "Moving",
         "offsetgroup": "Moving",
         "orientation": "v",
         "showlegend": true,
         "textposition": "auto",
         "type": "bar",
         "x": [
          "Home"
         ],
         "xaxis": "x",
         "y": [
          12.52
         ],
         "yaxis": "y"
        },
        {
         "alignmentgroup": "True",
         "hovertemplate": "Subcode_Description=Rent<br>Code_Description=%{x}<br>Amount=%{y}<extra></extra>",
         "legendgroup": "Rent",
         "marker": {
          "color": "#19d3f3",
          "pattern": {
           "shape": ""
          }
         },
         "name": "Rent",
         "offsetgroup": "Rent",
         "orientation": "v",
         "showlegend": true,
         "textposition": "auto",
         "type": "bar",
         "x": [
          "Home"
         ],
         "xaxis": "x",
         "y": [
          549.55
         ],
         "yaxis": "y"
        },
        {
         "alignmentgroup": "True",
         "hovertemplate": "Subcode_Description=Crowdsourced Donations<br>Code_Description=%{x}<br>Amount=%{y}<extra></extra>",
         "legendgroup": "Crowdsourced Donations",
         "marker": {
          "color": "#FF6692",
          "pattern": {
           "shape": ""
          }
         },
         "name": "Crowdsourced Donations",
         "offsetgroup": "Crowdsourced Donations",
         "orientation": "v",
         "showlegend": true,
         "textposition": "auto",
         "type": "bar",
         "x": [
          "Charity"
         ],
         "xaxis": "x",
         "y": [
          20
         ],
         "yaxis": "y"
        },
        {
         "alignmentgroup": "True",
         "hovertemplate": "Subcode_Description=Other Charitable Expenses<br>Code_Description=%{x}<br>Amount=%{y}<extra></extra>",
         "legendgroup": "Other Charitable Expenses",
         "marker": {
          "color": "#B6E880",
          "pattern": {
           "shape": ""
          }
         },
         "name": "Other Charitable Expenses",
         "offsetgroup": "Other Charitable Expenses",
         "orientation": "v",
         "showlegend": true,
         "textposition": "auto",
         "type": "bar",
         "x": [
          "Charity"
         ],
         "xaxis": "x",
         "y": [
          556.3100000000001
         ],
         "yaxis": "y"
        },
        {
         "alignmentgroup": "True",
         "hovertemplate": "Subcode_Description=Eye Care<br>Code_Description=%{x}<br>Amount=%{y}<extra></extra>",
         "legendgroup": "Eye Care",
         "marker": {
          "color": "#FF97FF",
          "pattern": {
           "shape": ""
          }
         },
         "name": "Eye Care",
         "offsetgroup": "Eye Care",
         "orientation": "v",
         "showlegend": true,
         "textposition": "auto",
         "type": "bar",
         "x": [
          "Medical"
         ],
         "xaxis": "x",
         "y": [
          6.12
         ],
         "yaxis": "y"
        },
        {
         "alignmentgroup": "True",
         "hovertemplate": "Subcode_Description=Tech Accessories<br>Code_Description=%{x}<br>Amount=%{y}<extra></extra>",
         "legendgroup": "Tech Accessories",
         "marker": {
          "color": "#FECB52",
          "pattern": {
           "shape": ""
          }
         },
         "name": "Tech Accessories",
         "offsetgroup": "Tech Accessories",
         "orientation": "v",
         "showlegend": true,
         "textposition": "auto",
         "type": "bar",
         "x": [
          "Technology"
         ],
         "xaxis": "x",
         "y": [
          102.57
         ],
         "yaxis": "y"
        },
        {
         "alignmentgroup": "True",
         "hovertemplate": "Subcode_Description=Video/Computer Games<br>Code_Description=%{x}<br>Amount=%{y}<extra></extra>",
         "legendgroup": "Video/Computer Games",
         "marker": {
          "color": "#636efa",
          "pattern": {
           "shape": ""
          }
         },
         "name": "Video/Computer Games",
         "offsetgroup": "Video/Computer Games",
         "orientation": "v",
         "showlegend": true,
         "textposition": "auto",
         "type": "bar",
         "x": [
          "Technology"
         ],
         "xaxis": "x",
         "y": [
          68.09
         ],
         "yaxis": "y"
        },
        {
         "alignmentgroup": "True",
         "hovertemplate": "Subcode_Description=Air Travel<br>Code_Description=%{x}<br>Amount=%{y}<extra></extra>",
         "legendgroup": "Air Travel",
         "marker": {
          "color": "#EF553B",
          "pattern": {
           "shape": ""
          }
         },
         "name": "Air Travel",
         "offsetgroup": "Air Travel",
         "orientation": "v",
         "showlegend": true,
         "textposition": "auto",
         "type": "bar",
         "x": [
          "Travel"
         ],
         "xaxis": "x",
         "y": [
          771.5899999999999
         ],
         "yaxis": "y"
        },
        {
         "alignmentgroup": "True",
         "hovertemplate": "Subcode_Description=Entertainment on Trips<br>Code_Description=%{x}<br>Amount=%{y}<extra></extra>",
         "legendgroup": "Entertainment on Trips",
         "marker": {
          "color": "#00cc96",
          "pattern": {
           "shape": ""
          }
         },
         "name": "Entertainment on Trips",
         "offsetgroup": "Entertainment on Trips",
         "orientation": "v",
         "showlegend": true,
         "textposition": "auto",
         "type": "bar",
         "x": [
          "Travel"
         ],
         "xaxis": "x",
         "y": [
          21.95
         ],
         "yaxis": "y"
        },
        {
         "alignmentgroup": "True",
         "hovertemplate": "Subcode_Description=Food on Trips<br>Code_Description=%{x}<br>Amount=%{y}<extra></extra>",
         "legendgroup": "Food on Trips",
         "marker": {
          "color": "#ab63fa",
          "pattern": {
           "shape": ""
          }
         },
         "name": "Food on Trips",
         "offsetgroup": "Food on Trips",
         "orientation": "v",
         "showlegend": true,
         "textposition": "auto",
         "type": "bar",
         "x": [
          "Travel"
         ],
         "xaxis": "x",
         "y": [
          43.13
         ],
         "yaxis": "y"
        },
        {
         "alignmentgroup": "True",
         "hovertemplate": "Subcode_Description=Hotels<br>Code_Description=%{x}<br>Amount=%{y}<extra></extra>",
         "legendgroup": "Hotels",
         "marker": {
          "color": "#FFA15A",
          "pattern": {
           "shape": ""
          }
         },
         "name": "Hotels",
         "offsetgroup": "Hotels",
         "orientation": "v",
         "showlegend": true,
         "textposition": "auto",
         "type": "bar",
         "x": [
          "Travel"
         ],
         "xaxis": "x",
         "y": [
          132.3
         ],
         "yaxis": "y"
        },
        {
         "alignmentgroup": "True",
         "hovertemplate": "Subcode_Description=Public Transit on Trips<br>Code_Description=%{x}<br>Amount=%{y}<extra></extra>",
         "legendgroup": "Public Transit on Trips",
         "marker": {
          "color": "#19d3f3",
          "pattern": {
           "shape": ""
          }
         },
         "name": "Public Transit on Trips",
         "offsetgroup": "Public Transit on Trips",
         "orientation": "v",
         "showlegend": true,
         "textposition": "auto",
         "type": "bar",
         "x": [
          "Travel"
         ],
         "xaxis": "x",
         "y": [
          80.67
         ],
         "yaxis": "y"
        },
        {
         "alignmentgroup": "True",
         "hovertemplate": "Subcode_Description=General Travel Expenses<br>Code_Description=%{x}<br>Amount=%{y}<extra></extra>",
         "legendgroup": "General Travel Expenses",
         "marker": {
          "color": "#FF6692",
          "pattern": {
           "shape": ""
          }
         },
         "name": "General Travel Expenses",
         "offsetgroup": "General Travel Expenses",
         "orientation": "v",
         "showlegend": true,
         "textposition": "auto",
         "type": "bar",
         "x": [
          "Travel"
         ],
         "xaxis": "x",
         "y": [
          5.42
         ],
         "yaxis": "y"
        },
        {
         "alignmentgroup": "True",
         "hovertemplate": "Subcode_Description=Clothes<br>Code_Description=%{x}<br>Amount=%{y}<extra></extra>",
         "legendgroup": "Clothes",
         "marker": {
          "color": "#B6E880",
          "pattern": {
           "shape": ""
          }
         },
         "name": "Clothes",
         "offsetgroup": "Clothes",
         "orientation": "v",
         "showlegend": true,
         "textposition": "auto",
         "type": "bar",
         "x": [
          "Clothing"
         ],
         "xaxis": "x",
         "y": [
          272.06
         ],
         "yaxis": "y"
        }
       ],
       "layout": {
        "barmode": "relative",
        "legend": {
         "title": {
          "text": "Subcode_Description"
         },
         "tracegroupgap": 0
        },
        "margin": {
         "t": 60
        },
        "template": {
         "data": {
          "bar": [
           {
            "error_x": {
             "color": "#2a3f5f"
            },
            "error_y": {
             "color": "#2a3f5f"
            },
            "marker": {
             "line": {
              "color": "#E5ECF6",
              "width": 0.5
             },
             "pattern": {
              "fillmode": "overlay",
              "size": 10,
              "solidity": 0.2
             }
            },
            "type": "bar"
           }
          ],
          "barpolar": [
           {
            "marker": {
             "line": {
              "color": "#E5ECF6",
              "width": 0.5
             },
             "pattern": {
              "fillmode": "overlay",
              "size": 10,
              "solidity": 0.2
             }
            },
            "type": "barpolar"
           }
          ],
          "carpet": [
           {
            "aaxis": {
             "endlinecolor": "#2a3f5f",
             "gridcolor": "white",
             "linecolor": "white",
             "minorgridcolor": "white",
             "startlinecolor": "#2a3f5f"
            },
            "baxis": {
             "endlinecolor": "#2a3f5f",
             "gridcolor": "white",
             "linecolor": "white",
             "minorgridcolor": "white",
             "startlinecolor": "#2a3f5f"
            },
            "type": "carpet"
           }
          ],
          "choropleth": [
           {
            "colorbar": {
             "outlinewidth": 0,
             "ticks": ""
            },
            "type": "choropleth"
           }
          ],
          "contour": [
           {
            "colorbar": {
             "outlinewidth": 0,
             "ticks": ""
            },
            "colorscale": [
             [
              0,
              "#0d0887"
             ],
             [
              0.1111111111111111,
              "#46039f"
             ],
             [
              0.2222222222222222,
              "#7201a8"
             ],
             [
              0.3333333333333333,
              "#9c179e"
             ],
             [
              0.4444444444444444,
              "#bd3786"
             ],
             [
              0.5555555555555556,
              "#d8576b"
             ],
             [
              0.6666666666666666,
              "#ed7953"
             ],
             [
              0.7777777777777778,
              "#fb9f3a"
             ],
             [
              0.8888888888888888,
              "#fdca26"
             ],
             [
              1,
              "#f0f921"
             ]
            ],
            "type": "contour"
           }
          ],
          "contourcarpet": [
           {
            "colorbar": {
             "outlinewidth": 0,
             "ticks": ""
            },
            "type": "contourcarpet"
           }
          ],
          "heatmap": [
           {
            "colorbar": {
             "outlinewidth": 0,
             "ticks": ""
            },
            "colorscale": [
             [
              0,
              "#0d0887"
             ],
             [
              0.1111111111111111,
              "#46039f"
             ],
             [
              0.2222222222222222,
              "#7201a8"
             ],
             [
              0.3333333333333333,
              "#9c179e"
             ],
             [
              0.4444444444444444,
              "#bd3786"
             ],
             [
              0.5555555555555556,
              "#d8576b"
             ],
             [
              0.6666666666666666,
              "#ed7953"
             ],
             [
              0.7777777777777778,
              "#fb9f3a"
             ],
             [
              0.8888888888888888,
              "#fdca26"
             ],
             [
              1,
              "#f0f921"
             ]
            ],
            "type": "heatmap"
           }
          ],
          "heatmapgl": [
           {
            "colorbar": {
             "outlinewidth": 0,
             "ticks": ""
            },
            "colorscale": [
             [
              0,
              "#0d0887"
             ],
             [
              0.1111111111111111,
              "#46039f"
             ],
             [
              0.2222222222222222,
              "#7201a8"
             ],
             [
              0.3333333333333333,
              "#9c179e"
             ],
             [
              0.4444444444444444,
              "#bd3786"
             ],
             [
              0.5555555555555556,
              "#d8576b"
             ],
             [
              0.6666666666666666,
              "#ed7953"
             ],
             [
              0.7777777777777778,
              "#fb9f3a"
             ],
             [
              0.8888888888888888,
              "#fdca26"
             ],
             [
              1,
              "#f0f921"
             ]
            ],
            "type": "heatmapgl"
           }
          ],
          "histogram": [
           {
            "marker": {
             "pattern": {
              "fillmode": "overlay",
              "size": 10,
              "solidity": 0.2
             }
            },
            "type": "histogram"
           }
          ],
          "histogram2d": [
           {
            "colorbar": {
             "outlinewidth": 0,
             "ticks": ""
            },
            "colorscale": [
             [
              0,
              "#0d0887"
             ],
             [
              0.1111111111111111,
              "#46039f"
             ],
             [
              0.2222222222222222,
              "#7201a8"
             ],
             [
              0.3333333333333333,
              "#9c179e"
             ],
             [
              0.4444444444444444,
              "#bd3786"
             ],
             [
              0.5555555555555556,
              "#d8576b"
             ],
             [
              0.6666666666666666,
              "#ed7953"
             ],
             [
              0.7777777777777778,
              "#fb9f3a"
             ],
             [
              0.8888888888888888,
              "#fdca26"
             ],
             [
              1,
              "#f0f921"
             ]
            ],
            "type": "histogram2d"
           }
          ],
          "histogram2dcontour": [
           {
            "colorbar": {
             "outlinewidth": 0,
             "ticks": ""
            },
            "colorscale": [
             [
              0,
              "#0d0887"
             ],
             [
              0.1111111111111111,
              "#46039f"
             ],
             [
              0.2222222222222222,
              "#7201a8"
             ],
             [
              0.3333333333333333,
              "#9c179e"
             ],
             [
              0.4444444444444444,
              "#bd3786"
             ],
             [
              0.5555555555555556,
              "#d8576b"
             ],
             [
              0.6666666666666666,
              "#ed7953"
             ],
             [
              0.7777777777777778,
              "#fb9f3a"
             ],
             [
              0.8888888888888888,
              "#fdca26"
             ],
             [
              1,
              "#f0f921"
             ]
            ],
            "type": "histogram2dcontour"
           }
          ],
          "mesh3d": [
           {
            "colorbar": {
             "outlinewidth": 0,
             "ticks": ""
            },
            "type": "mesh3d"
           }
          ],
          "parcoords": [
           {
            "line": {
             "colorbar": {
              "outlinewidth": 0,
              "ticks": ""
             }
            },
            "type": "parcoords"
           }
          ],
          "pie": [
           {
            "automargin": true,
            "type": "pie"
           }
          ],
          "scatter": [
           {
            "fillpattern": {
             "fillmode": "overlay",
             "size": 10,
             "solidity": 0.2
            },
            "type": "scatter"
           }
          ],
          "scatter3d": [
           {
            "line": {
             "colorbar": {
              "outlinewidth": 0,
              "ticks": ""
             }
            },
            "marker": {
             "colorbar": {
              "outlinewidth": 0,
              "ticks": ""
             }
            },
            "type": "scatter3d"
           }
          ],
          "scattercarpet": [
           {
            "marker": {
             "colorbar": {
              "outlinewidth": 0,
              "ticks": ""
             }
            },
            "type": "scattercarpet"
           }
          ],
          "scattergeo": [
           {
            "marker": {
             "colorbar": {
              "outlinewidth": 0,
              "ticks": ""
             }
            },
            "type": "scattergeo"
           }
          ],
          "scattergl": [
           {
            "marker": {
             "colorbar": {
              "outlinewidth": 0,
              "ticks": ""
             }
            },
            "type": "scattergl"
           }
          ],
          "scattermapbox": [
           {
            "marker": {
             "colorbar": {
              "outlinewidth": 0,
              "ticks": ""
             }
            },
            "type": "scattermapbox"
           }
          ],
          "scatterpolar": [
           {
            "marker": {
             "colorbar": {
              "outlinewidth": 0,
              "ticks": ""
             }
            },
            "type": "scatterpolar"
           }
          ],
          "scatterpolargl": [
           {
            "marker": {
             "colorbar": {
              "outlinewidth": 0,
              "ticks": ""
             }
            },
            "type": "scatterpolargl"
           }
          ],
          "scatterternary": [
           {
            "marker": {
             "colorbar": {
              "outlinewidth": 0,
              "ticks": ""
             }
            },
            "type": "scatterternary"
           }
          ],
          "surface": [
           {
            "colorbar": {
             "outlinewidth": 0,
             "ticks": ""
            },
            "colorscale": [
             [
              0,
              "#0d0887"
             ],
             [
              0.1111111111111111,
              "#46039f"
             ],
             [
              0.2222222222222222,
              "#7201a8"
             ],
             [
              0.3333333333333333,
              "#9c179e"
             ],
             [
              0.4444444444444444,
              "#bd3786"
             ],
             [
              0.5555555555555556,
              "#d8576b"
             ],
             [
              0.6666666666666666,
              "#ed7953"
             ],
             [
              0.7777777777777778,
              "#fb9f3a"
             ],
             [
              0.8888888888888888,
              "#fdca26"
             ],
             [
              1,
              "#f0f921"
             ]
            ],
            "type": "surface"
           }
          ],
          "table": [
           {
            "cells": {
             "fill": {
              "color": "#EBF0F8"
             },
             "line": {
              "color": "white"
             }
            },
            "header": {
             "fill": {
              "color": "#C8D4E3"
             },
             "line": {
              "color": "white"
             }
            },
            "type": "table"
           }
          ]
         },
         "layout": {
          "annotationdefaults": {
           "arrowcolor": "#2a3f5f",
           "arrowhead": 0,
           "arrowwidth": 1
          },
          "autotypenumbers": "strict",
          "coloraxis": {
           "colorbar": {
            "outlinewidth": 0,
            "ticks": ""
           }
          },
          "colorscale": {
           "diverging": [
            [
             0,
             "#8e0152"
            ],
            [
             0.1,
             "#c51b7d"
            ],
            [
             0.2,
             "#de77ae"
            ],
            [
             0.3,
             "#f1b6da"
            ],
            [
             0.4,
             "#fde0ef"
            ],
            [
             0.5,
             "#f7f7f7"
            ],
            [
             0.6,
             "#e6f5d0"
            ],
            [
             0.7,
             "#b8e186"
            ],
            [
             0.8,
             "#7fbc41"
            ],
            [
             0.9,
             "#4d9221"
            ],
            [
             1,
             "#276419"
            ]
           ],
           "sequential": [
            [
             0,
             "#0d0887"
            ],
            [
             0.1111111111111111,
             "#46039f"
            ],
            [
             0.2222222222222222,
             "#7201a8"
            ],
            [
             0.3333333333333333,
             "#9c179e"
            ],
            [
             0.4444444444444444,
             "#bd3786"
            ],
            [
             0.5555555555555556,
             "#d8576b"
            ],
            [
             0.6666666666666666,
             "#ed7953"
            ],
            [
             0.7777777777777778,
             "#fb9f3a"
            ],
            [
             0.8888888888888888,
             "#fdca26"
            ],
            [
             1,
             "#f0f921"
            ]
           ],
           "sequentialminus": [
            [
             0,
             "#0d0887"
            ],
            [
             0.1111111111111111,
             "#46039f"
            ],
            [
             0.2222222222222222,
             "#7201a8"
            ],
            [
             0.3333333333333333,
             "#9c179e"
            ],
            [
             0.4444444444444444,
             "#bd3786"
            ],
            [
             0.5555555555555556,
             "#d8576b"
            ],
            [
             0.6666666666666666,
             "#ed7953"
            ],
            [
             0.7777777777777778,
             "#fb9f3a"
            ],
            [
             0.8888888888888888,
             "#fdca26"
            ],
            [
             1,
             "#f0f921"
            ]
           ]
          },
          "colorway": [
           "#636efa",
           "#EF553B",
           "#00cc96",
           "#ab63fa",
           "#FFA15A",
           "#19d3f3",
           "#FF6692",
           "#B6E880",
           "#FF97FF",
           "#FECB52"
          ],
          "font": {
           "color": "#2a3f5f"
          },
          "geo": {
           "bgcolor": "white",
           "lakecolor": "white",
           "landcolor": "#E5ECF6",
           "showlakes": true,
           "showland": true,
           "subunitcolor": "white"
          },
          "hoverlabel": {
           "align": "left"
          },
          "hovermode": "closest",
          "mapbox": {
           "style": "light"
          },
          "paper_bgcolor": "white",
          "plot_bgcolor": "#E5ECF6",
          "polar": {
           "angularaxis": {
            "gridcolor": "white",
            "linecolor": "white",
            "ticks": ""
           },
           "bgcolor": "#E5ECF6",
           "radialaxis": {
            "gridcolor": "white",
            "linecolor": "white",
            "ticks": ""
           }
          },
          "scene": {
           "xaxis": {
            "backgroundcolor": "#E5ECF6",
            "gridcolor": "white",
            "gridwidth": 2,
            "linecolor": "white",
            "showbackground": true,
            "ticks": "",
            "zerolinecolor": "white"
           },
           "yaxis": {
            "backgroundcolor": "#E5ECF6",
            "gridcolor": "white",
            "gridwidth": 2,
            "linecolor": "white",
            "showbackground": true,
            "ticks": "",
            "zerolinecolor": "white"
           },
           "zaxis": {
            "backgroundcolor": "#E5ECF6",
            "gridcolor": "white",
            "gridwidth": 2,
            "linecolor": "white",
            "showbackground": true,
            "ticks": "",
            "zerolinecolor": "white"
           }
          },
          "shapedefaults": {
           "line": {
            "color": "#2a3f5f"
           }
          },
          "ternary": {
           "aaxis": {
            "gridcolor": "white",
            "linecolor": "white",
            "ticks": ""
           },
           "baxis": {
            "gridcolor": "white",
            "linecolor": "white",
            "ticks": ""
           },
           "bgcolor": "#E5ECF6",
           "caxis": {
            "gridcolor": "white",
            "linecolor": "white",
            "ticks": ""
           }
          },
          "title": {
           "x": 0.05
          },
          "xaxis": {
           "automargin": true,
           "gridcolor": "white",
           "linecolor": "white",
           "ticks": "",
           "title": {
            "standoff": 15
           },
           "zerolinecolor": "white",
           "zerolinewidth": 2
          },
          "yaxis": {
           "automargin": true,
           "gridcolor": "white",
           "linecolor": "white",
           "ticks": "",
           "title": {
            "standoff": 15
           },
           "zerolinecolor": "white",
           "zerolinewidth": 2
          }
         }
        },
        "xaxis": {
         "anchor": "y",
         "domain": [
          0,
          1
         ],
         "title": {
          "text": "Code_Description"
         }
        },
        "yaxis": {
         "anchor": "x",
         "domain": [
          0,
          1
         ],
         "title": {
          "text": "Amount"
         }
        }
       }
      }
     },
     "metadata": {},
     "output_type": "display_data"
    }
   ],
   "source": [
    "# See https://plotly.com/python/bar-charts/\n",
    "fig_yearly_spending_by_selected_subcodes = px.bar(df_expenses_by_selected_subcodes_by_year, x = 'Code_Description', y = 'Amount', color = 'Subcode_Description')\n",
    "fig_yearly_spending_by_selected_subcodes.show()"
   ]
  },
  {
   "cell_type": "code",
   "execution_count": 16,
   "metadata": {},
   "outputs": [
    {
     "data": {
      "application/vnd.plotly.v1+json": {
       "config": {
        "plotlyServerURL": "https://plot.ly"
       },
       "data": [
        {
         "alignmentgroup": "True",
         "hovertemplate": "Subcode_Description=Convenience Stores<br>Month=%{x}<br>Amount=%{y}<extra></extra>",
         "legendgroup": "Convenience Stores",
         "marker": {
          "color": "#636efa",
          "pattern": {
           "shape": ""
          }
         },
         "name": "Convenience Stores",
         "offsetgroup": "Convenience Stores",
         "orientation": "v",
         "showlegend": true,
         "textposition": "auto",
         "type": "bar",
         "x": [
          1,
          3,
          4,
          8,
          9
         ],
         "xaxis": "x",
         "y": [
          21.68,
          23.25,
          9.04,
          22.68,
          5.61
         ],
         "yaxis": "y"
        },
        {
         "alignmentgroup": "True",
         "hovertemplate": "Subcode_Description=Local Public Transit<br>Month=%{x}<br>Amount=%{y}<extra></extra>",
         "legendgroup": "Local Public Transit",
         "marker": {
          "color": "#EF553B",
          "pattern": {
           "shape": ""
          }
         },
         "name": "Local Public Transit",
         "offsetgroup": "Local Public Transit",
         "orientation": "v",
         "showlegend": true,
         "textposition": "auto",
         "type": "bar",
         "x": [
          1,
          2,
          3,
          4,
          5,
          6,
          7,
          8,
          9,
          10,
          11,
          12
         ],
         "xaxis": "x",
         "y": [
          13.75,
          24.75,
          35.75,
          19.25,
          39.14,
          33,
          35.75,
          27.5,
          16.5,
          27.5,
          22,
          40.38
         ],
         "yaxis": "y"
        },
        {
         "alignmentgroup": "True",
         "hovertemplate": "Subcode_Description=Dining Out<br>Month=%{x}<br>Amount=%{y}<extra></extra>",
         "legendgroup": "Dining Out",
         "marker": {
          "color": "#00cc96",
          "pattern": {
           "shape": ""
          }
         },
         "name": "Dining Out",
         "offsetgroup": "Dining Out",
         "orientation": "v",
         "showlegend": true,
         "textposition": "auto",
         "type": "bar",
         "x": [
          1,
          2,
          3,
          4,
          5,
          6,
          7,
          8,
          9,
          10,
          11,
          12
         ],
         "xaxis": "x",
         "y": [
          74.33,
          2.65,
          152.25,
          52.870000000000005,
          82.03,
          16.77,
          40.14,
          56.87,
          31.740000000000002,
          52.93,
          46.2,
          80.64999999999999
         ],
         "yaxis": "y"
        },
        {
         "alignmentgroup": "True",
         "hovertemplate": "Subcode_Description=Grocery Stores<br>Month=%{x}<br>Amount=%{y}<extra></extra>",
         "legendgroup": "Grocery Stores",
         "marker": {
          "color": "#ab63fa",
          "pattern": {
           "shape": ""
          }
         },
         "name": "Grocery Stores",
         "offsetgroup": "Grocery Stores",
         "orientation": "v",
         "showlegend": true,
         "textposition": "auto",
         "type": "bar",
         "x": [
          1,
          2,
          4,
          6,
          7,
          8,
          11
         ],
         "xaxis": "x",
         "y": [
          3.71,
          2.92,
          37.73,
          23.71,
          10.33,
          37.27,
          4.15
         ],
         "yaxis": "y"
        },
        {
         "alignmentgroup": "True",
         "hovertemplate": "Subcode_Description=House Furnishings<br>Month=%{x}<br>Amount=%{y}<extra></extra>",
         "legendgroup": "House Furnishings",
         "marker": {
          "color": "#FFA15A",
          "pattern": {
           "shape": ""
          }
         },
         "name": "House Furnishings",
         "offsetgroup": "House Furnishings",
         "orientation": "v",
         "showlegend": true,
         "textposition": "auto",
         "type": "bar",
         "x": [
          1,
          4,
          7,
          9,
          10,
          12
         ],
         "xaxis": "x",
         "y": [
          8.29,
          7.75,
          8.9,
          86.06,
          44.69,
          48.39
         ],
         "yaxis": "y"
        },
        {
         "alignmentgroup": "True",
         "hovertemplate": "Subcode_Description=Crowdsourced Donations<br>Month=%{x}<br>Amount=%{y}<extra></extra>",
         "legendgroup": "Crowdsourced Donations",
         "marker": {
          "color": "#19d3f3",
          "pattern": {
           "shape": ""
          }
         },
         "name": "Crowdsourced Donations",
         "offsetgroup": "Crowdsourced Donations",
         "orientation": "v",
         "showlegend": true,
         "textposition": "auto",
         "type": "bar",
         "x": [
          1
         ],
         "xaxis": "x",
         "y": [
          20
         ],
         "yaxis": "y"
        },
        {
         "alignmentgroup": "True",
         "hovertemplate": "Subcode_Description=Other Charitable Expenses<br>Month=%{x}<br>Amount=%{y}<extra></extra>",
         "legendgroup": "Other Charitable Expenses",
         "marker": {
          "color": "#FF6692",
          "pattern": {
           "shape": ""
          }
         },
         "name": "Other Charitable Expenses",
         "offsetgroup": "Other Charitable Expenses",
         "orientation": "v",
         "showlegend": true,
         "textposition": "auto",
         "type": "bar",
         "x": [
          1,
          3,
          5,
          6,
          7,
          8,
          12
         ],
         "xaxis": "x",
         "y": [
          148.99,
          45.96,
          90.17,
          57.84,
          62.23,
          49.66,
          101.46000000000001
         ],
         "yaxis": "y"
        },
        {
         "alignmentgroup": "True",
         "hovertemplate": "Subcode_Description=Air Travel<br>Month=%{x}<br>Amount=%{y}<extra></extra>",
         "legendgroup": "Air Travel",
         "marker": {
          "color": "#B6E880",
          "pattern": {
           "shape": ""
          }
         },
         "name": "Air Travel",
         "offsetgroup": "Air Travel",
         "orientation": "v",
         "showlegend": true,
         "textposition": "auto",
         "type": "bar",
         "x": [
          1,
          2,
          5,
          7,
          8,
          9,
          10
         ],
         "xaxis": "x",
         "y": [
          209.74,
          302.62,
          4.56,
          5.5,
          8.22,
          238.54,
          2.41
         ],
         "yaxis": "y"
        },
        {
         "alignmentgroup": "True",
         "hovertemplate": "Subcode_Description=Hotels<br>Month=%{x}<br>Amount=%{y}<extra></extra>",
         "legendgroup": "Hotels",
         "marker": {
          "color": "#FF97FF",
          "pattern": {
           "shape": ""
          }
         },
         "name": "Hotels",
         "offsetgroup": "Hotels",
         "orientation": "v",
         "showlegend": true,
         "textposition": "auto",
         "type": "bar",
         "x": [
          1
         ],
         "xaxis": "x",
         "y": [
          132.3
         ],
         "yaxis": "y"
        },
        {
         "alignmentgroup": "True",
         "hovertemplate": "Subcode_Description=Books<br>Month=%{x}<br>Amount=%{y}<extra></extra>",
         "legendgroup": "Books",
         "marker": {
          "color": "#FECB52",
          "pattern": {
           "shape": ""
          }
         },
         "name": "Books",
         "offsetgroup": "Books",
         "orientation": "v",
         "showlegend": true,
         "textposition": "auto",
         "type": "bar",
         "x": [
          2,
          4,
          7
         ],
         "xaxis": "x",
         "y": [
          5.92,
          9.4,
          0.12
         ],
         "yaxis": "y"
        },
        {
         "alignmentgroup": "True",
         "hovertemplate": "Subcode_Description=Newspapers<br>Month=%{x}<br>Amount=%{y}<extra></extra>",
         "legendgroup": "Newspapers",
         "marker": {
          "color": "#636efa",
          "pattern": {
           "shape": ""
          }
         },
         "name": "Newspapers",
         "offsetgroup": "Newspapers",
         "orientation": "v",
         "showlegend": true,
         "textposition": "auto",
         "type": "bar",
         "x": [
          2,
          12
         ],
         "xaxis": "x",
         "y": [
          4,
          8
         ],
         "yaxis": "y"
        },
        {
         "alignmentgroup": "True",
         "hovertemplate": "Subcode_Description=Public Transit on Trips<br>Month=%{x}<br>Amount=%{y}<extra></extra>",
         "legendgroup": "Public Transit on Trips",
         "marker": {
          "color": "#EF553B",
          "pattern": {
           "shape": ""
          }
         },
         "name": "Public Transit on Trips",
         "offsetgroup": "Public Transit on Trips",
         "orientation": "v",
         "showlegend": true,
         "textposition": "auto",
         "type": "bar",
         "x": [
          2,
          4,
          5,
          10
         ],
         "xaxis": "x",
         "y": [
          11.59,
          4.52,
          9.55,
          55.01
         ],
         "yaxis": "y"
        },
        {
         "alignmentgroup": "True",
         "hovertemplate": "Subcode_Description=Vending Machines<br>Month=%{x}<br>Amount=%{y}<extra></extra>",
         "legendgroup": "Vending Machines",
         "marker": {
          "color": "#00cc96",
          "pattern": {
           "shape": ""
          }
         },
         "name": "Vending Machines",
         "offsetgroup": "Vending Machines",
         "orientation": "v",
         "showlegend": true,
         "textposition": "auto",
         "type": "bar",
         "x": [
          3,
          4,
          5,
          7,
          9,
          10,
          12
         ],
         "xaxis": "x",
         "y": [
          0.78,
          1.73,
          0.28,
          0.96,
          3.71,
          0.58,
          1.57
         ],
         "yaxis": "y"
        },
        {
         "alignmentgroup": "True",
         "hovertemplate": "Subcode_Description=General Travel Expenses<br>Month=%{x}<br>Amount=%{y}<extra></extra>",
         "legendgroup": "General Travel Expenses",
         "marker": {
          "color": "#ab63fa",
          "pattern": {
           "shape": ""
          }
         },
         "name": "General Travel Expenses",
         "offsetgroup": "General Travel Expenses",
         "orientation": "v",
         "showlegend": true,
         "textposition": "auto",
         "type": "bar",
         "x": [
          3,
          4
         ],
         "xaxis": "x",
         "y": [
          3.64,
          1.78
         ],
         "yaxis": "y"
        },
        {
         "alignmentgroup": "True",
         "hovertemplate": "Subcode_Description=ATM Withdrawals<br>Month=%{x}<br>Amount=%{y}<extra></extra>",
         "legendgroup": "ATM Withdrawals",
         "marker": {
          "color": "#FFA15A",
          "pattern": {
           "shape": ""
          }
         },
         "name": "ATM Withdrawals",
         "offsetgroup": "ATM Withdrawals",
         "orientation": "v",
         "showlegend": true,
         "textposition": "auto",
         "type": "bar",
         "x": [
          4,
          6,
          9
         ],
         "xaxis": "x",
         "y": [
          13.5,
          -1.31,
          -0.52
         ],
         "yaxis": "y"
        },
        {
         "alignmentgroup": "True",
         "hovertemplate": "Subcode_Description=Cabs and Rideshare<br>Month=%{x}<br>Amount=%{y}<extra></extra>",
         "legendgroup": "Cabs and Rideshare",
         "marker": {
          "color": "#19d3f3",
          "pattern": {
           "shape": ""
          }
         },
         "name": "Cabs and Rideshare",
         "offsetgroup": "Cabs and Rideshare",
         "orientation": "v",
         "showlegend": true,
         "textposition": "auto",
         "type": "bar",
         "x": [
          4,
          6,
          7,
          11,
          12
         ],
         "xaxis": "x",
         "y": [
          9.03,
          62.36000000000001,
          120.89000000000001,
          -15.84,
          30.54
         ],
         "yaxis": "y"
        },
        {
         "alignmentgroup": "True",
         "hovertemplate": "Subcode_Description=Rent<br>Month=%{x}<br>Amount=%{y}<extra></extra>",
         "legendgroup": "Rent",
         "marker": {
          "color": "#FF6692",
          "pattern": {
           "shape": ""
          }
         },
         "name": "Rent",
         "offsetgroup": "Rent",
         "orientation": "v",
         "showlegend": true,
         "textposition": "auto",
         "type": "bar",
         "x": [
          4,
          6,
          8
         ],
         "xaxis": "x",
         "y": [
          302.86,
          -292.94,
          539.63
         ],
         "yaxis": "y"
        },
        {
         "alignmentgroup": "True",
         "hovertemplate": "Subcode_Description=Gifts<br>Month=%{x}<br>Amount=%{y}<extra></extra>",
         "legendgroup": "Gifts",
         "marker": {
          "color": "#B6E880",
          "pattern": {
           "shape": ""
          }
         },
         "name": "Gifts",
         "offsetgroup": "Gifts",
         "orientation": "v",
         "showlegend": true,
         "textposition": "auto",
         "type": "bar",
         "x": [
          5,
          7,
          8,
          11
         ],
         "xaxis": "x",
         "y": [
          14.5,
          14.3,
          49.82,
          11.77
         ],
         "yaxis": "y"
        },
        {
         "alignmentgroup": "True",
         "hovertemplate": "Subcode_Description=Tech Accessories<br>Month=%{x}<br>Amount=%{y}<extra></extra>",
         "legendgroup": "Tech Accessories",
         "marker": {
          "color": "#FF97FF",
          "pattern": {
           "shape": ""
          }
         },
         "name": "Tech Accessories",
         "offsetgroup": "Tech Accessories",
         "orientation": "v",
         "showlegend": true,
         "textposition": "auto",
         "type": "bar",
         "x": [
          5,
          11
         ],
         "xaxis": "x",
         "y": [
          55.03,
          47.54
         ],
         "yaxis": "y"
        },
        {
         "alignmentgroup": "True",
         "hovertemplate": "Subcode_Description=Eye Care<br>Month=%{x}<br>Amount=%{y}<extra></extra>",
         "legendgroup": "Eye Care",
         "marker": {
          "color": "#FECB52",
          "pattern": {
           "shape": ""
          }
         },
         "name": "Eye Care",
         "offsetgroup": "Eye Care",
         "orientation": "v",
         "showlegend": true,
         "textposition": "auto",
         "type": "bar",
         "x": [
          6
         ],
         "xaxis": "x",
         "y": [
          6.12
         ],
         "yaxis": "y"
        },
        {
         "alignmentgroup": "True",
         "hovertemplate": "Subcode_Description=Video/Computer Games<br>Month=%{x}<br>Amount=%{y}<extra></extra>",
         "legendgroup": "Video/Computer Games",
         "marker": {
          "color": "#636efa",
          "pattern": {
           "shape": ""
          }
         },
         "name": "Video/Computer Games",
         "offsetgroup": "Video/Computer Games",
         "orientation": "v",
         "showlegend": true,
         "textposition": "auto",
         "type": "bar",
         "x": [
          6,
          7
         ],
         "xaxis": "x",
         "y": [
          35.41,
          32.68
         ],
         "yaxis": "y"
        },
        {
         "alignmentgroup": "True",
         "hovertemplate": "Subcode_Description=Food on Trips<br>Month=%{x}<br>Amount=%{y}<extra></extra>",
         "legendgroup": "Food on Trips",
         "marker": {
          "color": "#EF553B",
          "pattern": {
           "shape": ""
          }
         },
         "name": "Food on Trips",
         "offsetgroup": "Food on Trips",
         "orientation": "v",
         "showlegend": true,
         "textposition": "auto",
         "type": "bar",
         "x": [
          6,
          7,
          10
         ],
         "xaxis": "x",
         "y": [
          18.21,
          5.87,
          19.05
         ],
         "yaxis": "y"
        },
        {
         "alignmentgroup": "True",
         "hovertemplate": "Subcode_Description=Entertainment on Trips<br>Month=%{x}<br>Amount=%{y}<extra></extra>",
         "legendgroup": "Entertainment on Trips",
         "marker": {
          "color": "#00cc96",
          "pattern": {
           "shape": ""
          }
         },
         "name": "Entertainment on Trips",
         "offsetgroup": "Entertainment on Trips",
         "orientation": "v",
         "showlegend": true,
         "textposition": "auto",
         "type": "bar",
         "x": [
          7
         ],
         "xaxis": "x",
         "y": [
          21.95
         ],
         "yaxis": "y"
        },
        {
         "alignmentgroup": "True",
         "hovertemplate": "Subcode_Description=Clothes<br>Month=%{x}<br>Amount=%{y}<extra></extra>",
         "legendgroup": "Clothes",
         "marker": {
          "color": "#ab63fa",
          "pattern": {
           "shape": ""
          }
         },
         "name": "Clothes",
         "offsetgroup": "Clothes",
         "orientation": "v",
         "showlegend": true,
         "textposition": "auto",
         "type": "bar",
         "x": [
          8
         ],
         "xaxis": "x",
         "y": [
          272.06
         ],
         "yaxis": "y"
        },
        {
         "alignmentgroup": "True",
         "hovertemplate": "Subcode_Description=Sports<br>Month=%{x}<br>Amount=%{y}<extra></extra>",
         "legendgroup": "Sports",
         "marker": {
          "color": "#FFA15A",
          "pattern": {
           "shape": ""
          }
         },
         "name": "Sports",
         "offsetgroup": "Sports",
         "orientation": "v",
         "showlegend": true,
         "textposition": "auto",
         "type": "bar",
         "x": [
          10
         ],
         "xaxis": "x",
         "y": [
          22.32
         ],
         "yaxis": "y"
        },
        {
         "alignmentgroup": "True",
         "hovertemplate": "Subcode_Description=Basics--Other<br>Month=%{x}<br>Amount=%{y}<extra></extra>",
         "legendgroup": "Basics--Other",
         "marker": {
          "color": "#19d3f3",
          "pattern": {
           "shape": ""
          }
         },
         "name": "Basics--Other",
         "offsetgroup": "Basics--Other",
         "orientation": "v",
         "showlegend": true,
         "textposition": "auto",
         "type": "bar",
         "x": [
          11
         ],
         "xaxis": "x",
         "y": [
          11.28
         ],
         "yaxis": "y"
        },
        {
         "alignmentgroup": "True",
         "hovertemplate": "Subcode_Description=Beer/Wine/Liquor<br>Month=%{x}<br>Amount=%{y}<extra></extra>",
         "legendgroup": "Beer/Wine/Liquor",
         "marker": {
          "color": "#FF6692",
          "pattern": {
           "shape": ""
          }
         },
         "name": "Beer/Wine/Liquor",
         "offsetgroup": "Beer/Wine/Liquor",
         "orientation": "v",
         "showlegend": true,
         "textposition": "auto",
         "type": "bar",
         "x": [
          11,
          12
         ],
         "xaxis": "x",
         "y": [
          5.81,
          4.73
         ],
         "yaxis": "y"
        },
        {
         "alignmentgroup": "True",
         "hovertemplate": "Subcode_Description=Moving<br>Month=%{x}<br>Amount=%{y}<extra></extra>",
         "legendgroup": "Moving",
         "marker": {
          "color": "#B6E880",
          "pattern": {
           "shape": ""
          }
         },
         "name": "Moving",
         "offsetgroup": "Moving",
         "orientation": "v",
         "showlegend": true,
         "textposition": "auto",
         "type": "bar",
         "x": [
          12
         ],
         "xaxis": "x",
         "y": [
          12.52
         ],
         "yaxis": "y"
        }
       ],
       "layout": {
        "barmode": "relative",
        "legend": {
         "title": {
          "text": "Subcode_Description"
         },
         "tracegroupgap": 0
        },
        "margin": {
         "t": 60
        },
        "template": {
         "data": {
          "bar": [
           {
            "error_x": {
             "color": "#2a3f5f"
            },
            "error_y": {
             "color": "#2a3f5f"
            },
            "marker": {
             "line": {
              "color": "#E5ECF6",
              "width": 0.5
             },
             "pattern": {
              "fillmode": "overlay",
              "size": 10,
              "solidity": 0.2
             }
            },
            "type": "bar"
           }
          ],
          "barpolar": [
           {
            "marker": {
             "line": {
              "color": "#E5ECF6",
              "width": 0.5
             },
             "pattern": {
              "fillmode": "overlay",
              "size": 10,
              "solidity": 0.2
             }
            },
            "type": "barpolar"
           }
          ],
          "carpet": [
           {
            "aaxis": {
             "endlinecolor": "#2a3f5f",
             "gridcolor": "white",
             "linecolor": "white",
             "minorgridcolor": "white",
             "startlinecolor": "#2a3f5f"
            },
            "baxis": {
             "endlinecolor": "#2a3f5f",
             "gridcolor": "white",
             "linecolor": "white",
             "minorgridcolor": "white",
             "startlinecolor": "#2a3f5f"
            },
            "type": "carpet"
           }
          ],
          "choropleth": [
           {
            "colorbar": {
             "outlinewidth": 0,
             "ticks": ""
            },
            "type": "choropleth"
           }
          ],
          "contour": [
           {
            "colorbar": {
             "outlinewidth": 0,
             "ticks": ""
            },
            "colorscale": [
             [
              0,
              "#0d0887"
             ],
             [
              0.1111111111111111,
              "#46039f"
             ],
             [
              0.2222222222222222,
              "#7201a8"
             ],
             [
              0.3333333333333333,
              "#9c179e"
             ],
             [
              0.4444444444444444,
              "#bd3786"
             ],
             [
              0.5555555555555556,
              "#d8576b"
             ],
             [
              0.6666666666666666,
              "#ed7953"
             ],
             [
              0.7777777777777778,
              "#fb9f3a"
             ],
             [
              0.8888888888888888,
              "#fdca26"
             ],
             [
              1,
              "#f0f921"
             ]
            ],
            "type": "contour"
           }
          ],
          "contourcarpet": [
           {
            "colorbar": {
             "outlinewidth": 0,
             "ticks": ""
            },
            "type": "contourcarpet"
           }
          ],
          "heatmap": [
           {
            "colorbar": {
             "outlinewidth": 0,
             "ticks": ""
            },
            "colorscale": [
             [
              0,
              "#0d0887"
             ],
             [
              0.1111111111111111,
              "#46039f"
             ],
             [
              0.2222222222222222,
              "#7201a8"
             ],
             [
              0.3333333333333333,
              "#9c179e"
             ],
             [
              0.4444444444444444,
              "#bd3786"
             ],
             [
              0.5555555555555556,
              "#d8576b"
             ],
             [
              0.6666666666666666,
              "#ed7953"
             ],
             [
              0.7777777777777778,
              "#fb9f3a"
             ],
             [
              0.8888888888888888,
              "#fdca26"
             ],
             [
              1,
              "#f0f921"
             ]
            ],
            "type": "heatmap"
           }
          ],
          "heatmapgl": [
           {
            "colorbar": {
             "outlinewidth": 0,
             "ticks": ""
            },
            "colorscale": [
             [
              0,
              "#0d0887"
             ],
             [
              0.1111111111111111,
              "#46039f"
             ],
             [
              0.2222222222222222,
              "#7201a8"
             ],
             [
              0.3333333333333333,
              "#9c179e"
             ],
             [
              0.4444444444444444,
              "#bd3786"
             ],
             [
              0.5555555555555556,
              "#d8576b"
             ],
             [
              0.6666666666666666,
              "#ed7953"
             ],
             [
              0.7777777777777778,
              "#fb9f3a"
             ],
             [
              0.8888888888888888,
              "#fdca26"
             ],
             [
              1,
              "#f0f921"
             ]
            ],
            "type": "heatmapgl"
           }
          ],
          "histogram": [
           {
            "marker": {
             "pattern": {
              "fillmode": "overlay",
              "size": 10,
              "solidity": 0.2
             }
            },
            "type": "histogram"
           }
          ],
          "histogram2d": [
           {
            "colorbar": {
             "outlinewidth": 0,
             "ticks": ""
            },
            "colorscale": [
             [
              0,
              "#0d0887"
             ],
             [
              0.1111111111111111,
              "#46039f"
             ],
             [
              0.2222222222222222,
              "#7201a8"
             ],
             [
              0.3333333333333333,
              "#9c179e"
             ],
             [
              0.4444444444444444,
              "#bd3786"
             ],
             [
              0.5555555555555556,
              "#d8576b"
             ],
             [
              0.6666666666666666,
              "#ed7953"
             ],
             [
              0.7777777777777778,
              "#fb9f3a"
             ],
             [
              0.8888888888888888,
              "#fdca26"
             ],
             [
              1,
              "#f0f921"
             ]
            ],
            "type": "histogram2d"
           }
          ],
          "histogram2dcontour": [
           {
            "colorbar": {
             "outlinewidth": 0,
             "ticks": ""
            },
            "colorscale": [
             [
              0,
              "#0d0887"
             ],
             [
              0.1111111111111111,
              "#46039f"
             ],
             [
              0.2222222222222222,
              "#7201a8"
             ],
             [
              0.3333333333333333,
              "#9c179e"
             ],
             [
              0.4444444444444444,
              "#bd3786"
             ],
             [
              0.5555555555555556,
              "#d8576b"
             ],
             [
              0.6666666666666666,
              "#ed7953"
             ],
             [
              0.7777777777777778,
              "#fb9f3a"
             ],
             [
              0.8888888888888888,
              "#fdca26"
             ],
             [
              1,
              "#f0f921"
             ]
            ],
            "type": "histogram2dcontour"
           }
          ],
          "mesh3d": [
           {
            "colorbar": {
             "outlinewidth": 0,
             "ticks": ""
            },
            "type": "mesh3d"
           }
          ],
          "parcoords": [
           {
            "line": {
             "colorbar": {
              "outlinewidth": 0,
              "ticks": ""
             }
            },
            "type": "parcoords"
           }
          ],
          "pie": [
           {
            "automargin": true,
            "type": "pie"
           }
          ],
          "scatter": [
           {
            "fillpattern": {
             "fillmode": "overlay",
             "size": 10,
             "solidity": 0.2
            },
            "type": "scatter"
           }
          ],
          "scatter3d": [
           {
            "line": {
             "colorbar": {
              "outlinewidth": 0,
              "ticks": ""
             }
            },
            "marker": {
             "colorbar": {
              "outlinewidth": 0,
              "ticks": ""
             }
            },
            "type": "scatter3d"
           }
          ],
          "scattercarpet": [
           {
            "marker": {
             "colorbar": {
              "outlinewidth": 0,
              "ticks": ""
             }
            },
            "type": "scattercarpet"
           }
          ],
          "scattergeo": [
           {
            "marker": {
             "colorbar": {
              "outlinewidth": 0,
              "ticks": ""
             }
            },
            "type": "scattergeo"
           }
          ],
          "scattergl": [
           {
            "marker": {
             "colorbar": {
              "outlinewidth": 0,
              "ticks": ""
             }
            },
            "type": "scattergl"
           }
          ],
          "scattermapbox": [
           {
            "marker": {
             "colorbar": {
              "outlinewidth": 0,
              "ticks": ""
             }
            },
            "type": "scattermapbox"
           }
          ],
          "scatterpolar": [
           {
            "marker": {
             "colorbar": {
              "outlinewidth": 0,
              "ticks": ""
             }
            },
            "type": "scatterpolar"
           }
          ],
          "scatterpolargl": [
           {
            "marker": {
             "colorbar": {
              "outlinewidth": 0,
              "ticks": ""
             }
            },
            "type": "scatterpolargl"
           }
          ],
          "scatterternary": [
           {
            "marker": {
             "colorbar": {
              "outlinewidth": 0,
              "ticks": ""
             }
            },
            "type": "scatterternary"
           }
          ],
          "surface": [
           {
            "colorbar": {
             "outlinewidth": 0,
             "ticks": ""
            },
            "colorscale": [
             [
              0,
              "#0d0887"
             ],
             [
              0.1111111111111111,
              "#46039f"
             ],
             [
              0.2222222222222222,
              "#7201a8"
             ],
             [
              0.3333333333333333,
              "#9c179e"
             ],
             [
              0.4444444444444444,
              "#bd3786"
             ],
             [
              0.5555555555555556,
              "#d8576b"
             ],
             [
              0.6666666666666666,
              "#ed7953"
             ],
             [
              0.7777777777777778,
              "#fb9f3a"
             ],
             [
              0.8888888888888888,
              "#fdca26"
             ],
             [
              1,
              "#f0f921"
             ]
            ],
            "type": "surface"
           }
          ],
          "table": [
           {
            "cells": {
             "fill": {
              "color": "#EBF0F8"
             },
             "line": {
              "color": "white"
             }
            },
            "header": {
             "fill": {
              "color": "#C8D4E3"
             },
             "line": {
              "color": "white"
             }
            },
            "type": "table"
           }
          ]
         },
         "layout": {
          "annotationdefaults": {
           "arrowcolor": "#2a3f5f",
           "arrowhead": 0,
           "arrowwidth": 1
          },
          "autotypenumbers": "strict",
          "coloraxis": {
           "colorbar": {
            "outlinewidth": 0,
            "ticks": ""
           }
          },
          "colorscale": {
           "diverging": [
            [
             0,
             "#8e0152"
            ],
            [
             0.1,
             "#c51b7d"
            ],
            [
             0.2,
             "#de77ae"
            ],
            [
             0.3,
             "#f1b6da"
            ],
            [
             0.4,
             "#fde0ef"
            ],
            [
             0.5,
             "#f7f7f7"
            ],
            [
             0.6,
             "#e6f5d0"
            ],
            [
             0.7,
             "#b8e186"
            ],
            [
             0.8,
             "#7fbc41"
            ],
            [
             0.9,
             "#4d9221"
            ],
            [
             1,
             "#276419"
            ]
           ],
           "sequential": [
            [
             0,
             "#0d0887"
            ],
            [
             0.1111111111111111,
             "#46039f"
            ],
            [
             0.2222222222222222,
             "#7201a8"
            ],
            [
             0.3333333333333333,
             "#9c179e"
            ],
            [
             0.4444444444444444,
             "#bd3786"
            ],
            [
             0.5555555555555556,
             "#d8576b"
            ],
            [
             0.6666666666666666,
             "#ed7953"
            ],
            [
             0.7777777777777778,
             "#fb9f3a"
            ],
            [
             0.8888888888888888,
             "#fdca26"
            ],
            [
             1,
             "#f0f921"
            ]
           ],
           "sequentialminus": [
            [
             0,
             "#0d0887"
            ],
            [
             0.1111111111111111,
             "#46039f"
            ],
            [
             0.2222222222222222,
             "#7201a8"
            ],
            [
             0.3333333333333333,
             "#9c179e"
            ],
            [
             0.4444444444444444,
             "#bd3786"
            ],
            [
             0.5555555555555556,
             "#d8576b"
            ],
            [
             0.6666666666666666,
             "#ed7953"
            ],
            [
             0.7777777777777778,
             "#fb9f3a"
            ],
            [
             0.8888888888888888,
             "#fdca26"
            ],
            [
             1,
             "#f0f921"
            ]
           ]
          },
          "colorway": [
           "#636efa",
           "#EF553B",
           "#00cc96",
           "#ab63fa",
           "#FFA15A",
           "#19d3f3",
           "#FF6692",
           "#B6E880",
           "#FF97FF",
           "#FECB52"
          ],
          "font": {
           "color": "#2a3f5f"
          },
          "geo": {
           "bgcolor": "white",
           "lakecolor": "white",
           "landcolor": "#E5ECF6",
           "showlakes": true,
           "showland": true,
           "subunitcolor": "white"
          },
          "hoverlabel": {
           "align": "left"
          },
          "hovermode": "closest",
          "mapbox": {
           "style": "light"
          },
          "paper_bgcolor": "white",
          "plot_bgcolor": "#E5ECF6",
          "polar": {
           "angularaxis": {
            "gridcolor": "white",
            "linecolor": "white",
            "ticks": ""
           },
           "bgcolor": "#E5ECF6",
           "radialaxis": {
            "gridcolor": "white",
            "linecolor": "white",
            "ticks": ""
           }
          },
          "scene": {
           "xaxis": {
            "backgroundcolor": "#E5ECF6",
            "gridcolor": "white",
            "gridwidth": 2,
            "linecolor": "white",
            "showbackground": true,
            "ticks": "",
            "zerolinecolor": "white"
           },
           "yaxis": {
            "backgroundcolor": "#E5ECF6",
            "gridcolor": "white",
            "gridwidth": 2,
            "linecolor": "white",
            "showbackground": true,
            "ticks": "",
            "zerolinecolor": "white"
           },
           "zaxis": {
            "backgroundcolor": "#E5ECF6",
            "gridcolor": "white",
            "gridwidth": 2,
            "linecolor": "white",
            "showbackground": true,
            "ticks": "",
            "zerolinecolor": "white"
           }
          },
          "shapedefaults": {
           "line": {
            "color": "#2a3f5f"
           }
          },
          "ternary": {
           "aaxis": {
            "gridcolor": "white",
            "linecolor": "white",
            "ticks": ""
           },
           "baxis": {
            "gridcolor": "white",
            "linecolor": "white",
            "ticks": ""
           },
           "bgcolor": "#E5ECF6",
           "caxis": {
            "gridcolor": "white",
            "linecolor": "white",
            "ticks": ""
           }
          },
          "title": {
           "x": 0.05
          },
          "xaxis": {
           "automargin": true,
           "gridcolor": "white",
           "linecolor": "white",
           "ticks": "",
           "title": {
            "standoff": 15
           },
           "zerolinecolor": "white",
           "zerolinewidth": 2
          },
          "yaxis": {
           "automargin": true,
           "gridcolor": "white",
           "linecolor": "white",
           "ticks": "",
           "title": {
            "standoff": 15
           },
           "zerolinecolor": "white",
           "zerolinewidth": 2
          }
         }
        },
        "xaxis": {
         "anchor": "y",
         "domain": [
          0,
          1
         ],
         "title": {
          "text": "Month"
         }
        },
        "yaxis": {
         "anchor": "x",
         "domain": [
          0,
          1
         ],
         "title": {
          "text": "Amount"
         }
        }
       }
      }
     },
     "metadata": {},
     "output_type": "display_data"
    }
   ],
   "source": [
    "fig_monthly_spending_by_selected_subcodes = px.bar(df_expenses_by_selected_subcodes_by_month, x = 'Month', y = 'Amount', color = 'Subcode_Description')\n",
    "fig_monthly_spending_by_selected_subcodes.write_html(chart_data_folder + '\\\\monthly_spending_by_subcode.html') \n",
    "fig_monthly_spending_by_selected_subcodes.show()"
   ]
  },
  {
   "cell_type": "code",
   "execution_count": 17,
   "metadata": {},
   "outputs": [
    {
     "data": {
      "application/vnd.plotly.v1+json": {
       "config": {
        "plotlyServerURL": "https://plot.ly"
       },
       "data": [
        {
         "alignmentgroup": "True",
         "bingroup": "x",
         "histfunc": "sum",
         "hovertemplate": "Code_Description=Basics<br>Month=%{x}<br>sum of Amount=%{y}<extra></extra>",
         "legendgroup": "Basics",
         "marker": {
          "color": "#636efa",
          "pattern": {
           "shape": ""
          }
         },
         "name": "Basics",
         "offsetgroup": "Basics",
         "orientation": "v",
         "showlegend": true,
         "type": "histogram",
         "x": [
          1,
          1,
          2,
          2,
          3,
          3,
          4,
          4,
          4,
          4,
          5,
          5,
          6,
          6,
          7,
          7,
          7,
          7,
          8,
          8,
          8,
          9,
          9,
          10,
          11,
          11,
          11,
          11,
          12,
          12
         ],
         "xaxis": "x",
         "y": [
          21.68,
          13.75,
          5.92,
          24.75,
          23.25,
          35.75,
          9.4,
          9.04,
          9.03,
          19.25,
          14.5,
          39.14,
          62.36000000000001,
          33,
          0.12,
          14.3,
          120.89000000000001,
          35.75,
          22.68,
          49.82,
          27.5,
          5.61,
          16.5,
          27.5,
          11.77,
          -15.84,
          22,
          11.28,
          30.54,
          40.38
         ],
         "yaxis": "y"
        },
        {
         "alignmentgroup": "True",
         "bingroup": "x",
         "histfunc": "sum",
         "hovertemplate": "Code_Description=Dining<br>Month=%{x}<br>sum of Amount=%{y}<extra></extra>",
         "legendgroup": "Dining",
         "marker": {
          "color": "#EF553B",
          "pattern": {
           "shape": ""
          }
         },
         "name": "Dining",
         "offsetgroup": "Dining",
         "orientation": "v",
         "showlegend": true,
         "type": "histogram",
         "x": [
          1,
          2,
          3,
          4,
          5,
          6,
          7,
          8,
          9,
          10,
          11,
          12
         ],
         "xaxis": "x",
         "y": [
          74.33,
          2.65,
          152.25,
          52.870000000000005,
          82.03,
          16.77,
          40.14,
          56.87,
          31.740000000000002,
          52.93,
          46.2,
          80.64999999999999
         ],
         "yaxis": "y"
        },
        {
         "alignmentgroup": "True",
         "bingroup": "x",
         "histfunc": "sum",
         "hovertemplate": "Code_Description=Food<br>Month=%{x}<br>sum of Amount=%{y}<extra></extra>",
         "legendgroup": "Food",
         "marker": {
          "color": "#00cc96",
          "pattern": {
           "shape": ""
          }
         },
         "name": "Food",
         "offsetgroup": "Food",
         "orientation": "v",
         "showlegend": true,
         "type": "histogram",
         "x": [
          1,
          2,
          3,
          4,
          4,
          5,
          6,
          7,
          7,
          8,
          9,
          10,
          11,
          11,
          12,
          12
         ],
         "xaxis": "x",
         "y": [
          3.71,
          2.92,
          0.78,
          37.73,
          1.73,
          0.28,
          23.71,
          10.33,
          0.96,
          37.27,
          3.71,
          0.58,
          5.81,
          4.15,
          4.73,
          1.57
         ],
         "yaxis": "y"
        },
        {
         "alignmentgroup": "True",
         "bingroup": "x",
         "histfunc": "sum",
         "hovertemplate": "Code_Description=Home<br>Month=%{x}<br>sum of Amount=%{y}<extra></extra>",
         "legendgroup": "Home",
         "marker": {
          "color": "#ab63fa",
          "pattern": {
           "shape": ""
          }
         },
         "name": "Home",
         "offsetgroup": "Home",
         "orientation": "v",
         "showlegend": true,
         "type": "histogram",
         "x": [
          1,
          4,
          4,
          6,
          7,
          8,
          9,
          10,
          12,
          12
         ],
         "xaxis": "x",
         "y": [
          8.29,
          7.75,
          302.86,
          -292.94,
          8.9,
          539.63,
          86.06,
          44.69,
          48.39,
          12.52
         ],
         "yaxis": "y"
        },
        {
         "alignmentgroup": "True",
         "bingroup": "x",
         "histfunc": "sum",
         "hovertemplate": "Code_Description=Charity<br>Month=%{x}<br>sum of Amount=%{y}<extra></extra>",
         "legendgroup": "Charity",
         "marker": {
          "color": "#FFA15A",
          "pattern": {
           "shape": ""
          }
         },
         "name": "Charity",
         "offsetgroup": "Charity",
         "orientation": "v",
         "showlegend": true,
         "type": "histogram",
         "x": [
          1,
          1,
          3,
          5,
          6,
          7,
          8,
          12
         ],
         "xaxis": "x",
         "y": [
          20,
          148.99,
          45.96,
          90.17,
          57.84,
          62.23,
          49.66,
          101.46000000000001
         ],
         "yaxis": "y"
        },
        {
         "alignmentgroup": "True",
         "bingroup": "x",
         "histfunc": "sum",
         "hovertemplate": "Code_Description=Travel<br>Month=%{x}<br>sum of Amount=%{y}<extra></extra>",
         "legendgroup": "Travel",
         "marker": {
          "color": "#19d3f3",
          "pattern": {
           "shape": ""
          }
         },
         "name": "Travel",
         "offsetgroup": "Travel",
         "orientation": "v",
         "showlegend": true,
         "type": "histogram",
         "x": [
          1,
          1,
          2,
          2,
          3,
          4,
          4,
          5,
          5,
          6,
          7,
          7,
          7,
          8,
          9,
          10,
          10,
          10
         ],
         "xaxis": "x",
         "y": [
          209.74,
          132.3,
          302.62,
          11.59,
          3.64,
          4.52,
          1.78,
          4.56,
          9.55,
          18.21,
          5.5,
          21.95,
          5.87,
          8.22,
          238.54,
          2.41,
          19.05,
          55.01
         ],
         "yaxis": "y"
        },
        {
         "alignmentgroup": "True",
         "bingroup": "x",
         "histfunc": "sum",
         "hovertemplate": "Code_Description=Entertainment<br>Month=%{x}<br>sum of Amount=%{y}<extra></extra>",
         "legendgroup": "Entertainment",
         "marker": {
          "color": "#FF6692",
          "pattern": {
           "shape": ""
          }
         },
         "name": "Entertainment",
         "offsetgroup": "Entertainment",
         "orientation": "v",
         "showlegend": true,
         "type": "histogram",
         "x": [
          2,
          10,
          12
         ],
         "xaxis": "x",
         "y": [
          4,
          22.32,
          8
         ],
         "yaxis": "y"
        },
        {
         "alignmentgroup": "True",
         "bingroup": "x",
         "histfunc": "sum",
         "hovertemplate": "Code_Description=ATM<br>Month=%{x}<br>sum of Amount=%{y}<extra></extra>",
         "legendgroup": "ATM",
         "marker": {
          "color": "#B6E880",
          "pattern": {
           "shape": ""
          }
         },
         "name": "ATM",
         "offsetgroup": "ATM",
         "orientation": "v",
         "showlegend": true,
         "type": "histogram",
         "x": [
          4,
          6,
          9
         ],
         "xaxis": "x",
         "y": [
          13.5,
          -1.31,
          -0.52
         ],
         "yaxis": "y"
        },
        {
         "alignmentgroup": "True",
         "bingroup": "x",
         "histfunc": "sum",
         "hovertemplate": "Code_Description=Technology<br>Month=%{x}<br>sum of Amount=%{y}<extra></extra>",
         "legendgroup": "Technology",
         "marker": {
          "color": "#FF97FF",
          "pattern": {
           "shape": ""
          }
         },
         "name": "Technology",
         "offsetgroup": "Technology",
         "orientation": "v",
         "showlegend": true,
         "type": "histogram",
         "x": [
          5,
          6,
          7,
          11
         ],
         "xaxis": "x",
         "y": [
          55.03,
          35.41,
          32.68,
          47.54
         ],
         "yaxis": "y"
        },
        {
         "alignmentgroup": "True",
         "bingroup": "x",
         "histfunc": "sum",
         "hovertemplate": "Code_Description=Medical<br>Month=%{x}<br>sum of Amount=%{y}<extra></extra>",
         "legendgroup": "Medical",
         "marker": {
          "color": "#FECB52",
          "pattern": {
           "shape": ""
          }
         },
         "name": "Medical",
         "offsetgroup": "Medical",
         "orientation": "v",
         "showlegend": true,
         "type": "histogram",
         "x": [
          6
         ],
         "xaxis": "x",
         "y": [
          6.12
         ],
         "yaxis": "y"
        },
        {
         "alignmentgroup": "True",
         "bingroup": "x",
         "histfunc": "sum",
         "hovertemplate": "Code_Description=Clothing<br>Month=%{x}<br>sum of Amount=%{y}<extra></extra>",
         "legendgroup": "Clothing",
         "marker": {
          "color": "#636efa",
          "pattern": {
           "shape": ""
          }
         },
         "name": "Clothing",
         "offsetgroup": "Clothing",
         "orientation": "v",
         "showlegend": true,
         "type": "histogram",
         "x": [
          8
         ],
         "xaxis": "x",
         "y": [
          272.06
         ],
         "yaxis": "y"
        }
       ],
       "layout": {
        "bargroupgap": 0.2,
        "barmode": "relative",
        "legend": {
         "title": {
          "text": "Code_Description"
         },
         "tracegroupgap": 0
        },
        "margin": {
         "t": 60
        },
        "template": {
         "data": {
          "bar": [
           {
            "error_x": {
             "color": "#2a3f5f"
            },
            "error_y": {
             "color": "#2a3f5f"
            },
            "marker": {
             "line": {
              "color": "#E5ECF6",
              "width": 0.5
             },
             "pattern": {
              "fillmode": "overlay",
              "size": 10,
              "solidity": 0.2
             }
            },
            "type": "bar"
           }
          ],
          "barpolar": [
           {
            "marker": {
             "line": {
              "color": "#E5ECF6",
              "width": 0.5
             },
             "pattern": {
              "fillmode": "overlay",
              "size": 10,
              "solidity": 0.2
             }
            },
            "type": "barpolar"
           }
          ],
          "carpet": [
           {
            "aaxis": {
             "endlinecolor": "#2a3f5f",
             "gridcolor": "white",
             "linecolor": "white",
             "minorgridcolor": "white",
             "startlinecolor": "#2a3f5f"
            },
            "baxis": {
             "endlinecolor": "#2a3f5f",
             "gridcolor": "white",
             "linecolor": "white",
             "minorgridcolor": "white",
             "startlinecolor": "#2a3f5f"
            },
            "type": "carpet"
           }
          ],
          "choropleth": [
           {
            "colorbar": {
             "outlinewidth": 0,
             "ticks": ""
            },
            "type": "choropleth"
           }
          ],
          "contour": [
           {
            "colorbar": {
             "outlinewidth": 0,
             "ticks": ""
            },
            "colorscale": [
             [
              0,
              "#0d0887"
             ],
             [
              0.1111111111111111,
              "#46039f"
             ],
             [
              0.2222222222222222,
              "#7201a8"
             ],
             [
              0.3333333333333333,
              "#9c179e"
             ],
             [
              0.4444444444444444,
              "#bd3786"
             ],
             [
              0.5555555555555556,
              "#d8576b"
             ],
             [
              0.6666666666666666,
              "#ed7953"
             ],
             [
              0.7777777777777778,
              "#fb9f3a"
             ],
             [
              0.8888888888888888,
              "#fdca26"
             ],
             [
              1,
              "#f0f921"
             ]
            ],
            "type": "contour"
           }
          ],
          "contourcarpet": [
           {
            "colorbar": {
             "outlinewidth": 0,
             "ticks": ""
            },
            "type": "contourcarpet"
           }
          ],
          "heatmap": [
           {
            "colorbar": {
             "outlinewidth": 0,
             "ticks": ""
            },
            "colorscale": [
             [
              0,
              "#0d0887"
             ],
             [
              0.1111111111111111,
              "#46039f"
             ],
             [
              0.2222222222222222,
              "#7201a8"
             ],
             [
              0.3333333333333333,
              "#9c179e"
             ],
             [
              0.4444444444444444,
              "#bd3786"
             ],
             [
              0.5555555555555556,
              "#d8576b"
             ],
             [
              0.6666666666666666,
              "#ed7953"
             ],
             [
              0.7777777777777778,
              "#fb9f3a"
             ],
             [
              0.8888888888888888,
              "#fdca26"
             ],
             [
              1,
              "#f0f921"
             ]
            ],
            "type": "heatmap"
           }
          ],
          "heatmapgl": [
           {
            "colorbar": {
             "outlinewidth": 0,
             "ticks": ""
            },
            "colorscale": [
             [
              0,
              "#0d0887"
             ],
             [
              0.1111111111111111,
              "#46039f"
             ],
             [
              0.2222222222222222,
              "#7201a8"
             ],
             [
              0.3333333333333333,
              "#9c179e"
             ],
             [
              0.4444444444444444,
              "#bd3786"
             ],
             [
              0.5555555555555556,
              "#d8576b"
             ],
             [
              0.6666666666666666,
              "#ed7953"
             ],
             [
              0.7777777777777778,
              "#fb9f3a"
             ],
             [
              0.8888888888888888,
              "#fdca26"
             ],
             [
              1,
              "#f0f921"
             ]
            ],
            "type": "heatmapgl"
           }
          ],
          "histogram": [
           {
            "marker": {
             "pattern": {
              "fillmode": "overlay",
              "size": 10,
              "solidity": 0.2
             }
            },
            "type": "histogram"
           }
          ],
          "histogram2d": [
           {
            "colorbar": {
             "outlinewidth": 0,
             "ticks": ""
            },
            "colorscale": [
             [
              0,
              "#0d0887"
             ],
             [
              0.1111111111111111,
              "#46039f"
             ],
             [
              0.2222222222222222,
              "#7201a8"
             ],
             [
              0.3333333333333333,
              "#9c179e"
             ],
             [
              0.4444444444444444,
              "#bd3786"
             ],
             [
              0.5555555555555556,
              "#d8576b"
             ],
             [
              0.6666666666666666,
              "#ed7953"
             ],
             [
              0.7777777777777778,
              "#fb9f3a"
             ],
             [
              0.8888888888888888,
              "#fdca26"
             ],
             [
              1,
              "#f0f921"
             ]
            ],
            "type": "histogram2d"
           }
          ],
          "histogram2dcontour": [
           {
            "colorbar": {
             "outlinewidth": 0,
             "ticks": ""
            },
            "colorscale": [
             [
              0,
              "#0d0887"
             ],
             [
              0.1111111111111111,
              "#46039f"
             ],
             [
              0.2222222222222222,
              "#7201a8"
             ],
             [
              0.3333333333333333,
              "#9c179e"
             ],
             [
              0.4444444444444444,
              "#bd3786"
             ],
             [
              0.5555555555555556,
              "#d8576b"
             ],
             [
              0.6666666666666666,
              "#ed7953"
             ],
             [
              0.7777777777777778,
              "#fb9f3a"
             ],
             [
              0.8888888888888888,
              "#fdca26"
             ],
             [
              1,
              "#f0f921"
             ]
            ],
            "type": "histogram2dcontour"
           }
          ],
          "mesh3d": [
           {
            "colorbar": {
             "outlinewidth": 0,
             "ticks": ""
            },
            "type": "mesh3d"
           }
          ],
          "parcoords": [
           {
            "line": {
             "colorbar": {
              "outlinewidth": 0,
              "ticks": ""
             }
            },
            "type": "parcoords"
           }
          ],
          "pie": [
           {
            "automargin": true,
            "type": "pie"
           }
          ],
          "scatter": [
           {
            "fillpattern": {
             "fillmode": "overlay",
             "size": 10,
             "solidity": 0.2
            },
            "type": "scatter"
           }
          ],
          "scatter3d": [
           {
            "line": {
             "colorbar": {
              "outlinewidth": 0,
              "ticks": ""
             }
            },
            "marker": {
             "colorbar": {
              "outlinewidth": 0,
              "ticks": ""
             }
            },
            "type": "scatter3d"
           }
          ],
          "scattercarpet": [
           {
            "marker": {
             "colorbar": {
              "outlinewidth": 0,
              "ticks": ""
             }
            },
            "type": "scattercarpet"
           }
          ],
          "scattergeo": [
           {
            "marker": {
             "colorbar": {
              "outlinewidth": 0,
              "ticks": ""
             }
            },
            "type": "scattergeo"
           }
          ],
          "scattergl": [
           {
            "marker": {
             "colorbar": {
              "outlinewidth": 0,
              "ticks": ""
             }
            },
            "type": "scattergl"
           }
          ],
          "scattermapbox": [
           {
            "marker": {
             "colorbar": {
              "outlinewidth": 0,
              "ticks": ""
             }
            },
            "type": "scattermapbox"
           }
          ],
          "scatterpolar": [
           {
            "marker": {
             "colorbar": {
              "outlinewidth": 0,
              "ticks": ""
             }
            },
            "type": "scatterpolar"
           }
          ],
          "scatterpolargl": [
           {
            "marker": {
             "colorbar": {
              "outlinewidth": 0,
              "ticks": ""
             }
            },
            "type": "scatterpolargl"
           }
          ],
          "scatterternary": [
           {
            "marker": {
             "colorbar": {
              "outlinewidth": 0,
              "ticks": ""
             }
            },
            "type": "scatterternary"
           }
          ],
          "surface": [
           {
            "colorbar": {
             "outlinewidth": 0,
             "ticks": ""
            },
            "colorscale": [
             [
              0,
              "#0d0887"
             ],
             [
              0.1111111111111111,
              "#46039f"
             ],
             [
              0.2222222222222222,
              "#7201a8"
             ],
             [
              0.3333333333333333,
              "#9c179e"
             ],
             [
              0.4444444444444444,
              "#bd3786"
             ],
             [
              0.5555555555555556,
              "#d8576b"
             ],
             [
              0.6666666666666666,
              "#ed7953"
             ],
             [
              0.7777777777777778,
              "#fb9f3a"
             ],
             [
              0.8888888888888888,
              "#fdca26"
             ],
             [
              1,
              "#f0f921"
             ]
            ],
            "type": "surface"
           }
          ],
          "table": [
           {
            "cells": {
             "fill": {
              "color": "#EBF0F8"
             },
             "line": {
              "color": "white"
             }
            },
            "header": {
             "fill": {
              "color": "#C8D4E3"
             },
             "line": {
              "color": "white"
             }
            },
            "type": "table"
           }
          ]
         },
         "layout": {
          "annotationdefaults": {
           "arrowcolor": "#2a3f5f",
           "arrowhead": 0,
           "arrowwidth": 1
          },
          "autotypenumbers": "strict",
          "coloraxis": {
           "colorbar": {
            "outlinewidth": 0,
            "ticks": ""
           }
          },
          "colorscale": {
           "diverging": [
            [
             0,
             "#8e0152"
            ],
            [
             0.1,
             "#c51b7d"
            ],
            [
             0.2,
             "#de77ae"
            ],
            [
             0.3,
             "#f1b6da"
            ],
            [
             0.4,
             "#fde0ef"
            ],
            [
             0.5,
             "#f7f7f7"
            ],
            [
             0.6,
             "#e6f5d0"
            ],
            [
             0.7,
             "#b8e186"
            ],
            [
             0.8,
             "#7fbc41"
            ],
            [
             0.9,
             "#4d9221"
            ],
            [
             1,
             "#276419"
            ]
           ],
           "sequential": [
            [
             0,
             "#0d0887"
            ],
            [
             0.1111111111111111,
             "#46039f"
            ],
            [
             0.2222222222222222,
             "#7201a8"
            ],
            [
             0.3333333333333333,
             "#9c179e"
            ],
            [
             0.4444444444444444,
             "#bd3786"
            ],
            [
             0.5555555555555556,
             "#d8576b"
            ],
            [
             0.6666666666666666,
             "#ed7953"
            ],
            [
             0.7777777777777778,
             "#fb9f3a"
            ],
            [
             0.8888888888888888,
             "#fdca26"
            ],
            [
             1,
             "#f0f921"
            ]
           ],
           "sequentialminus": [
            [
             0,
             "#0d0887"
            ],
            [
             0.1111111111111111,
             "#46039f"
            ],
            [
             0.2222222222222222,
             "#7201a8"
            ],
            [
             0.3333333333333333,
             "#9c179e"
            ],
            [
             0.4444444444444444,
             "#bd3786"
            ],
            [
             0.5555555555555556,
             "#d8576b"
            ],
            [
             0.6666666666666666,
             "#ed7953"
            ],
            [
             0.7777777777777778,
             "#fb9f3a"
            ],
            [
             0.8888888888888888,
             "#fdca26"
            ],
            [
             1,
             "#f0f921"
            ]
           ]
          },
          "colorway": [
           "#636efa",
           "#EF553B",
           "#00cc96",
           "#ab63fa",
           "#FFA15A",
           "#19d3f3",
           "#FF6692",
           "#B6E880",
           "#FF97FF",
           "#FECB52"
          ],
          "font": {
           "color": "#2a3f5f"
          },
          "geo": {
           "bgcolor": "white",
           "lakecolor": "white",
           "landcolor": "#E5ECF6",
           "showlakes": true,
           "showland": true,
           "subunitcolor": "white"
          },
          "hoverlabel": {
           "align": "left"
          },
          "hovermode": "closest",
          "mapbox": {
           "style": "light"
          },
          "paper_bgcolor": "white",
          "plot_bgcolor": "#E5ECF6",
          "polar": {
           "angularaxis": {
            "gridcolor": "white",
            "linecolor": "white",
            "ticks": ""
           },
           "bgcolor": "#E5ECF6",
           "radialaxis": {
            "gridcolor": "white",
            "linecolor": "white",
            "ticks": ""
           }
          },
          "scene": {
           "xaxis": {
            "backgroundcolor": "#E5ECF6",
            "gridcolor": "white",
            "gridwidth": 2,
            "linecolor": "white",
            "showbackground": true,
            "ticks": "",
            "zerolinecolor": "white"
           },
           "yaxis": {
            "backgroundcolor": "#E5ECF6",
            "gridcolor": "white",
            "gridwidth": 2,
            "linecolor": "white",
            "showbackground": true,
            "ticks": "",
            "zerolinecolor": "white"
           },
           "zaxis": {
            "backgroundcolor": "#E5ECF6",
            "gridcolor": "white",
            "gridwidth": 2,
            "linecolor": "white",
            "showbackground": true,
            "ticks": "",
            "zerolinecolor": "white"
           }
          },
          "shapedefaults": {
           "line": {
            "color": "#2a3f5f"
           }
          },
          "ternary": {
           "aaxis": {
            "gridcolor": "white",
            "linecolor": "white",
            "ticks": ""
           },
           "baxis": {
            "gridcolor": "white",
            "linecolor": "white",
            "ticks": ""
           },
           "bgcolor": "#E5ECF6",
           "caxis": {
            "gridcolor": "white",
            "linecolor": "white",
            "ticks": ""
           }
          },
          "title": {
           "x": 0.05
          },
          "xaxis": {
           "automargin": true,
           "gridcolor": "white",
           "linecolor": "white",
           "ticks": "",
           "title": {
            "standoff": 15
           },
           "zerolinecolor": "white",
           "zerolinewidth": 2
          },
          "yaxis": {
           "automargin": true,
           "gridcolor": "white",
           "linecolor": "white",
           "ticks": "",
           "title": {
            "standoff": 15
           },
           "zerolinecolor": "white",
           "zerolinewidth": 2
          }
         }
        },
        "xaxis": {
         "anchor": "y",
         "domain": [
          0,
          1
         ],
         "title": {
          "text": "Month"
         }
        },
        "yaxis": {
         "anchor": "x",
         "domain": [
          0,
          1
         ],
         "title": {
          "text": "sum of Amount"
         }
        }
       }
      }
     },
     "metadata": {},
     "output_type": "display_data"
    }
   ],
   "source": [
    "fig_monthly_spending_by_selected_codes = px.histogram(df_expenses_by_selected_subcodes_by_month, x = 'Month', y = 'Amount', color = 'Code_Description', histfunc = 'sum')\n",
    "# See https://plotly.com/python/histograms/\n",
    "fig_monthly_spending_by_selected_codes.update_layout(bargroupgap = 0.2)\n",
    "fig_monthly_spending_by_selected_codes.write_html(chart_data_folder + '\\\\fig_monthly_spending_by_selected_codes.html') \n",
    "fig_monthly_spending_by_selected_codes.show()"
   ]
  },
  {
   "cell_type": "code",
   "execution_count": 18,
   "metadata": {},
   "outputs": [
    {
     "data": {
      "application/vnd.plotly.v1+json": {
       "config": {
        "plotlyServerURL": "https://plot.ly"
       },
       "data": [
        {
         "hovertemplate": "Code_Description=Basics<br>Month=%{x}<br>Amount=%{y}<extra></extra>",
         "legendgroup": "Basics",
         "line": {
          "color": "#636efa",
          "dash": "solid"
         },
         "marker": {
          "symbol": "circle"
         },
         "mode": "lines",
         "name": "Basics",
         "orientation": "v",
         "showlegend": true,
         "type": "scatter",
         "x": [
          1,
          2,
          3,
          4,
          5,
          6,
          7,
          8,
          9,
          10,
          11,
          12
         ],
         "xaxis": "x",
         "y": [
          35.43,
          30.67,
          59,
          46.72,
          53.64,
          95.36000000000001,
          171.06,
          100,
          22.11,
          27.5,
          29.21,
          70.92
         ],
         "yaxis": "y"
        },
        {
         "hovertemplate": "Code_Description=Dining<br>Month=%{x}<br>Amount=%{y}<extra></extra>",
         "legendgroup": "Dining",
         "line": {
          "color": "#EF553B",
          "dash": "solid"
         },
         "marker": {
          "symbol": "circle"
         },
         "mode": "lines",
         "name": "Dining",
         "orientation": "v",
         "showlegend": true,
         "type": "scatter",
         "x": [
          1,
          2,
          3,
          4,
          5,
          6,
          7,
          8,
          9,
          10,
          11,
          12
         ],
         "xaxis": "x",
         "y": [
          74.33,
          2.65,
          152.25,
          52.870000000000005,
          82.03,
          16.77,
          40.14,
          56.87,
          31.740000000000002,
          52.93,
          46.2,
          80.64999999999999
         ],
         "yaxis": "y"
        },
        {
         "hovertemplate": "Code_Description=Food<br>Month=%{x}<br>Amount=%{y}<extra></extra>",
         "legendgroup": "Food",
         "line": {
          "color": "#00cc96",
          "dash": "solid"
         },
         "marker": {
          "symbol": "circle"
         },
         "mode": "lines",
         "name": "Food",
         "orientation": "v",
         "showlegend": true,
         "type": "scatter",
         "x": [
          1,
          2,
          3,
          4,
          5,
          6,
          7,
          8,
          9,
          10,
          11,
          12
         ],
         "xaxis": "x",
         "y": [
          3.71,
          2.92,
          0.78,
          39.459999999999994,
          0.28,
          23.71,
          11.29,
          37.27,
          3.71,
          0.58,
          9.96,
          6.300000000000001
         ],
         "yaxis": "y"
        },
        {
         "hovertemplate": "Code_Description=Home<br>Month=%{x}<br>Amount=%{y}<extra></extra>",
         "legendgroup": "Home",
         "line": {
          "color": "#ab63fa",
          "dash": "solid"
         },
         "marker": {
          "symbol": "circle"
         },
         "mode": "lines",
         "name": "Home",
         "orientation": "v",
         "showlegend": true,
         "type": "scatter",
         "x": [
          1,
          4,
          6,
          7,
          8,
          9,
          10,
          12
         ],
         "xaxis": "x",
         "y": [
          8.29,
          310.61,
          -292.94,
          8.9,
          539.63,
          86.06,
          44.69,
          60.91
         ],
         "yaxis": "y"
        },
        {
         "hovertemplate": "Code_Description=Charity<br>Month=%{x}<br>Amount=%{y}<extra></extra>",
         "legendgroup": "Charity",
         "line": {
          "color": "#FFA15A",
          "dash": "solid"
         },
         "marker": {
          "symbol": "circle"
         },
         "mode": "lines",
         "name": "Charity",
         "orientation": "v",
         "showlegend": true,
         "type": "scatter",
         "x": [
          1,
          3,
          5,
          6,
          7,
          8,
          12
         ],
         "xaxis": "x",
         "y": [
          168.99,
          45.96,
          90.17,
          57.84,
          62.23,
          49.66,
          101.46000000000001
         ],
         "yaxis": "y"
        },
        {
         "hovertemplate": "Code_Description=Travel<br>Month=%{x}<br>Amount=%{y}<extra></extra>",
         "legendgroup": "Travel",
         "line": {
          "color": "#19d3f3",
          "dash": "solid"
         },
         "marker": {
          "symbol": "circle"
         },
         "mode": "lines",
         "name": "Travel",
         "orientation": "v",
         "showlegend": true,
         "type": "scatter",
         "x": [
          1,
          2,
          3,
          4,
          5,
          6,
          7,
          8,
          9,
          10
         ],
         "xaxis": "x",
         "y": [
          342.04,
          314.21,
          3.64,
          6.3,
          14.11,
          18.21,
          33.32,
          8.22,
          238.54,
          76.47
         ],
         "yaxis": "y"
        },
        {
         "hovertemplate": "Code_Description=Entertainment<br>Month=%{x}<br>Amount=%{y}<extra></extra>",
         "legendgroup": "Entertainment",
         "line": {
          "color": "#FF6692",
          "dash": "solid"
         },
         "marker": {
          "symbol": "circle"
         },
         "mode": "lines",
         "name": "Entertainment",
         "orientation": "v",
         "showlegend": true,
         "type": "scatter",
         "x": [
          2,
          10,
          12
         ],
         "xaxis": "x",
         "y": [
          4,
          22.32,
          8
         ],
         "yaxis": "y"
        },
        {
         "hovertemplate": "Code_Description=ATM<br>Month=%{x}<br>Amount=%{y}<extra></extra>",
         "legendgroup": "ATM",
         "line": {
          "color": "#B6E880",
          "dash": "solid"
         },
         "marker": {
          "symbol": "circle"
         },
         "mode": "lines",
         "name": "ATM",
         "orientation": "v",
         "showlegend": true,
         "type": "scatter",
         "x": [
          4,
          6,
          9
         ],
         "xaxis": "x",
         "y": [
          13.5,
          -1.31,
          -0.52
         ],
         "yaxis": "y"
        },
        {
         "hovertemplate": "Code_Description=Technology<br>Month=%{x}<br>Amount=%{y}<extra></extra>",
         "legendgroup": "Technology",
         "line": {
          "color": "#FF97FF",
          "dash": "solid"
         },
         "marker": {
          "symbol": "circle"
         },
         "mode": "lines",
         "name": "Technology",
         "orientation": "v",
         "showlegend": true,
         "type": "scatter",
         "x": [
          5,
          6,
          7,
          11
         ],
         "xaxis": "x",
         "y": [
          55.03,
          35.41,
          32.68,
          47.54
         ],
         "yaxis": "y"
        },
        {
         "hovertemplate": "Code_Description=Medical<br>Month=%{x}<br>Amount=%{y}<extra></extra>",
         "legendgroup": "Medical",
         "line": {
          "color": "#FECB52",
          "dash": "solid"
         },
         "marker": {
          "symbol": "circle"
         },
         "mode": "lines",
         "name": "Medical",
         "orientation": "v",
         "showlegend": true,
         "type": "scatter",
         "x": [
          6
         ],
         "xaxis": "x",
         "y": [
          6.12
         ],
         "yaxis": "y"
        },
        {
         "hovertemplate": "Code_Description=Clothing<br>Month=%{x}<br>Amount=%{y}<extra></extra>",
         "legendgroup": "Clothing",
         "line": {
          "color": "#636efa",
          "dash": "solid"
         },
         "marker": {
          "symbol": "circle"
         },
         "mode": "lines",
         "name": "Clothing",
         "orientation": "v",
         "showlegend": true,
         "type": "scatter",
         "x": [
          8
         ],
         "xaxis": "x",
         "y": [
          272.06
         ],
         "yaxis": "y"
        }
       ],
       "layout": {
        "legend": {
         "title": {
          "text": "Code_Description"
         },
         "tracegroupgap": 0
        },
        "margin": {
         "t": 60
        },
        "template": {
         "data": {
          "bar": [
           {
            "error_x": {
             "color": "#2a3f5f"
            },
            "error_y": {
             "color": "#2a3f5f"
            },
            "marker": {
             "line": {
              "color": "#E5ECF6",
              "width": 0.5
             },
             "pattern": {
              "fillmode": "overlay",
              "size": 10,
              "solidity": 0.2
             }
            },
            "type": "bar"
           }
          ],
          "barpolar": [
           {
            "marker": {
             "line": {
              "color": "#E5ECF6",
              "width": 0.5
             },
             "pattern": {
              "fillmode": "overlay",
              "size": 10,
              "solidity": 0.2
             }
            },
            "type": "barpolar"
           }
          ],
          "carpet": [
           {
            "aaxis": {
             "endlinecolor": "#2a3f5f",
             "gridcolor": "white",
             "linecolor": "white",
             "minorgridcolor": "white",
             "startlinecolor": "#2a3f5f"
            },
            "baxis": {
             "endlinecolor": "#2a3f5f",
             "gridcolor": "white",
             "linecolor": "white",
             "minorgridcolor": "white",
             "startlinecolor": "#2a3f5f"
            },
            "type": "carpet"
           }
          ],
          "choropleth": [
           {
            "colorbar": {
             "outlinewidth": 0,
             "ticks": ""
            },
            "type": "choropleth"
           }
          ],
          "contour": [
           {
            "colorbar": {
             "outlinewidth": 0,
             "ticks": ""
            },
            "colorscale": [
             [
              0,
              "#0d0887"
             ],
             [
              0.1111111111111111,
              "#46039f"
             ],
             [
              0.2222222222222222,
              "#7201a8"
             ],
             [
              0.3333333333333333,
              "#9c179e"
             ],
             [
              0.4444444444444444,
              "#bd3786"
             ],
             [
              0.5555555555555556,
              "#d8576b"
             ],
             [
              0.6666666666666666,
              "#ed7953"
             ],
             [
              0.7777777777777778,
              "#fb9f3a"
             ],
             [
              0.8888888888888888,
              "#fdca26"
             ],
             [
              1,
              "#f0f921"
             ]
            ],
            "type": "contour"
           }
          ],
          "contourcarpet": [
           {
            "colorbar": {
             "outlinewidth": 0,
             "ticks": ""
            },
            "type": "contourcarpet"
           }
          ],
          "heatmap": [
           {
            "colorbar": {
             "outlinewidth": 0,
             "ticks": ""
            },
            "colorscale": [
             [
              0,
              "#0d0887"
             ],
             [
              0.1111111111111111,
              "#46039f"
             ],
             [
              0.2222222222222222,
              "#7201a8"
             ],
             [
              0.3333333333333333,
              "#9c179e"
             ],
             [
              0.4444444444444444,
              "#bd3786"
             ],
             [
              0.5555555555555556,
              "#d8576b"
             ],
             [
              0.6666666666666666,
              "#ed7953"
             ],
             [
              0.7777777777777778,
              "#fb9f3a"
             ],
             [
              0.8888888888888888,
              "#fdca26"
             ],
             [
              1,
              "#f0f921"
             ]
            ],
            "type": "heatmap"
           }
          ],
          "heatmapgl": [
           {
            "colorbar": {
             "outlinewidth": 0,
             "ticks": ""
            },
            "colorscale": [
             [
              0,
              "#0d0887"
             ],
             [
              0.1111111111111111,
              "#46039f"
             ],
             [
              0.2222222222222222,
              "#7201a8"
             ],
             [
              0.3333333333333333,
              "#9c179e"
             ],
             [
              0.4444444444444444,
              "#bd3786"
             ],
             [
              0.5555555555555556,
              "#d8576b"
             ],
             [
              0.6666666666666666,
              "#ed7953"
             ],
             [
              0.7777777777777778,
              "#fb9f3a"
             ],
             [
              0.8888888888888888,
              "#fdca26"
             ],
             [
              1,
              "#f0f921"
             ]
            ],
            "type": "heatmapgl"
           }
          ],
          "histogram": [
           {
            "marker": {
             "pattern": {
              "fillmode": "overlay",
              "size": 10,
              "solidity": 0.2
             }
            },
            "type": "histogram"
           }
          ],
          "histogram2d": [
           {
            "colorbar": {
             "outlinewidth": 0,
             "ticks": ""
            },
            "colorscale": [
             [
              0,
              "#0d0887"
             ],
             [
              0.1111111111111111,
              "#46039f"
             ],
             [
              0.2222222222222222,
              "#7201a8"
             ],
             [
              0.3333333333333333,
              "#9c179e"
             ],
             [
              0.4444444444444444,
              "#bd3786"
             ],
             [
              0.5555555555555556,
              "#d8576b"
             ],
             [
              0.6666666666666666,
              "#ed7953"
             ],
             [
              0.7777777777777778,
              "#fb9f3a"
             ],
             [
              0.8888888888888888,
              "#fdca26"
             ],
             [
              1,
              "#f0f921"
             ]
            ],
            "type": "histogram2d"
           }
          ],
          "histogram2dcontour": [
           {
            "colorbar": {
             "outlinewidth": 0,
             "ticks": ""
            },
            "colorscale": [
             [
              0,
              "#0d0887"
             ],
             [
              0.1111111111111111,
              "#46039f"
             ],
             [
              0.2222222222222222,
              "#7201a8"
             ],
             [
              0.3333333333333333,
              "#9c179e"
             ],
             [
              0.4444444444444444,
              "#bd3786"
             ],
             [
              0.5555555555555556,
              "#d8576b"
             ],
             [
              0.6666666666666666,
              "#ed7953"
             ],
             [
              0.7777777777777778,
              "#fb9f3a"
             ],
             [
              0.8888888888888888,
              "#fdca26"
             ],
             [
              1,
              "#f0f921"
             ]
            ],
            "type": "histogram2dcontour"
           }
          ],
          "mesh3d": [
           {
            "colorbar": {
             "outlinewidth": 0,
             "ticks": ""
            },
            "type": "mesh3d"
           }
          ],
          "parcoords": [
           {
            "line": {
             "colorbar": {
              "outlinewidth": 0,
              "ticks": ""
             }
            },
            "type": "parcoords"
           }
          ],
          "pie": [
           {
            "automargin": true,
            "type": "pie"
           }
          ],
          "scatter": [
           {
            "fillpattern": {
             "fillmode": "overlay",
             "size": 10,
             "solidity": 0.2
            },
            "type": "scatter"
           }
          ],
          "scatter3d": [
           {
            "line": {
             "colorbar": {
              "outlinewidth": 0,
              "ticks": ""
             }
            },
            "marker": {
             "colorbar": {
              "outlinewidth": 0,
              "ticks": ""
             }
            },
            "type": "scatter3d"
           }
          ],
          "scattercarpet": [
           {
            "marker": {
             "colorbar": {
              "outlinewidth": 0,
              "ticks": ""
             }
            },
            "type": "scattercarpet"
           }
          ],
          "scattergeo": [
           {
            "marker": {
             "colorbar": {
              "outlinewidth": 0,
              "ticks": ""
             }
            },
            "type": "scattergeo"
           }
          ],
          "scattergl": [
           {
            "marker": {
             "colorbar": {
              "outlinewidth": 0,
              "ticks": ""
             }
            },
            "type": "scattergl"
           }
          ],
          "scattermapbox": [
           {
            "marker": {
             "colorbar": {
              "outlinewidth": 0,
              "ticks": ""
             }
            },
            "type": "scattermapbox"
           }
          ],
          "scatterpolar": [
           {
            "marker": {
             "colorbar": {
              "outlinewidth": 0,
              "ticks": ""
             }
            },
            "type": "scatterpolar"
           }
          ],
          "scatterpolargl": [
           {
            "marker": {
             "colorbar": {
              "outlinewidth": 0,
              "ticks": ""
             }
            },
            "type": "scatterpolargl"
           }
          ],
          "scatterternary": [
           {
            "marker": {
             "colorbar": {
              "outlinewidth": 0,
              "ticks": ""
             }
            },
            "type": "scatterternary"
           }
          ],
          "surface": [
           {
            "colorbar": {
             "outlinewidth": 0,
             "ticks": ""
            },
            "colorscale": [
             [
              0,
              "#0d0887"
             ],
             [
              0.1111111111111111,
              "#46039f"
             ],
             [
              0.2222222222222222,
              "#7201a8"
             ],
             [
              0.3333333333333333,
              "#9c179e"
             ],
             [
              0.4444444444444444,
              "#bd3786"
             ],
             [
              0.5555555555555556,
              "#d8576b"
             ],
             [
              0.6666666666666666,
              "#ed7953"
             ],
             [
              0.7777777777777778,
              "#fb9f3a"
             ],
             [
              0.8888888888888888,
              "#fdca26"
             ],
             [
              1,
              "#f0f921"
             ]
            ],
            "type": "surface"
           }
          ],
          "table": [
           {
            "cells": {
             "fill": {
              "color": "#EBF0F8"
             },
             "line": {
              "color": "white"
             }
            },
            "header": {
             "fill": {
              "color": "#C8D4E3"
             },
             "line": {
              "color": "white"
             }
            },
            "type": "table"
           }
          ]
         },
         "layout": {
          "annotationdefaults": {
           "arrowcolor": "#2a3f5f",
           "arrowhead": 0,
           "arrowwidth": 1
          },
          "autotypenumbers": "strict",
          "coloraxis": {
           "colorbar": {
            "outlinewidth": 0,
            "ticks": ""
           }
          },
          "colorscale": {
           "diverging": [
            [
             0,
             "#8e0152"
            ],
            [
             0.1,
             "#c51b7d"
            ],
            [
             0.2,
             "#de77ae"
            ],
            [
             0.3,
             "#f1b6da"
            ],
            [
             0.4,
             "#fde0ef"
            ],
            [
             0.5,
             "#f7f7f7"
            ],
            [
             0.6,
             "#e6f5d0"
            ],
            [
             0.7,
             "#b8e186"
            ],
            [
             0.8,
             "#7fbc41"
            ],
            [
             0.9,
             "#4d9221"
            ],
            [
             1,
             "#276419"
            ]
           ],
           "sequential": [
            [
             0,
             "#0d0887"
            ],
            [
             0.1111111111111111,
             "#46039f"
            ],
            [
             0.2222222222222222,
             "#7201a8"
            ],
            [
             0.3333333333333333,
             "#9c179e"
            ],
            [
             0.4444444444444444,
             "#bd3786"
            ],
            [
             0.5555555555555556,
             "#d8576b"
            ],
            [
             0.6666666666666666,
             "#ed7953"
            ],
            [
             0.7777777777777778,
             "#fb9f3a"
            ],
            [
             0.8888888888888888,
             "#fdca26"
            ],
            [
             1,
             "#f0f921"
            ]
           ],
           "sequentialminus": [
            [
             0,
             "#0d0887"
            ],
            [
             0.1111111111111111,
             "#46039f"
            ],
            [
             0.2222222222222222,
             "#7201a8"
            ],
            [
             0.3333333333333333,
             "#9c179e"
            ],
            [
             0.4444444444444444,
             "#bd3786"
            ],
            [
             0.5555555555555556,
             "#d8576b"
            ],
            [
             0.6666666666666666,
             "#ed7953"
            ],
            [
             0.7777777777777778,
             "#fb9f3a"
            ],
            [
             0.8888888888888888,
             "#fdca26"
            ],
            [
             1,
             "#f0f921"
            ]
           ]
          },
          "colorway": [
           "#636efa",
           "#EF553B",
           "#00cc96",
           "#ab63fa",
           "#FFA15A",
           "#19d3f3",
           "#FF6692",
           "#B6E880",
           "#FF97FF",
           "#FECB52"
          ],
          "font": {
           "color": "#2a3f5f"
          },
          "geo": {
           "bgcolor": "white",
           "lakecolor": "white",
           "landcolor": "#E5ECF6",
           "showlakes": true,
           "showland": true,
           "subunitcolor": "white"
          },
          "hoverlabel": {
           "align": "left"
          },
          "hovermode": "closest",
          "mapbox": {
           "style": "light"
          },
          "paper_bgcolor": "white",
          "plot_bgcolor": "#E5ECF6",
          "polar": {
           "angularaxis": {
            "gridcolor": "white",
            "linecolor": "white",
            "ticks": ""
           },
           "bgcolor": "#E5ECF6",
           "radialaxis": {
            "gridcolor": "white",
            "linecolor": "white",
            "ticks": ""
           }
          },
          "scene": {
           "xaxis": {
            "backgroundcolor": "#E5ECF6",
            "gridcolor": "white",
            "gridwidth": 2,
            "linecolor": "white",
            "showbackground": true,
            "ticks": "",
            "zerolinecolor": "white"
           },
           "yaxis": {
            "backgroundcolor": "#E5ECF6",
            "gridcolor": "white",
            "gridwidth": 2,
            "linecolor": "white",
            "showbackground": true,
            "ticks": "",
            "zerolinecolor": "white"
           },
           "zaxis": {
            "backgroundcolor": "#E5ECF6",
            "gridcolor": "white",
            "gridwidth": 2,
            "linecolor": "white",
            "showbackground": true,
            "ticks": "",
            "zerolinecolor": "white"
           }
          },
          "shapedefaults": {
           "line": {
            "color": "#2a3f5f"
           }
          },
          "ternary": {
           "aaxis": {
            "gridcolor": "white",
            "linecolor": "white",
            "ticks": ""
           },
           "baxis": {
            "gridcolor": "white",
            "linecolor": "white",
            "ticks": ""
           },
           "bgcolor": "#E5ECF6",
           "caxis": {
            "gridcolor": "white",
            "linecolor": "white",
            "ticks": ""
           }
          },
          "title": {
           "x": 0.05
          },
          "xaxis": {
           "automargin": true,
           "gridcolor": "white",
           "linecolor": "white",
           "ticks": "",
           "title": {
            "standoff": 15
           },
           "zerolinecolor": "white",
           "zerolinewidth": 2
          },
          "yaxis": {
           "automargin": true,
           "gridcolor": "white",
           "linecolor": "white",
           "ticks": "",
           "title": {
            "standoff": 15
           },
           "zerolinecolor": "white",
           "zerolinewidth": 2
          }
         }
        },
        "xaxis": {
         "anchor": "y",
         "domain": [
          0,
          1
         ],
         "title": {
          "text": "Month"
         }
        },
        "yaxis": {
         "anchor": "x",
         "domain": [
          0,
          1
         ],
         "title": {
          "text": "Amount"
         }
        }
       }
      }
     },
     "metadata": {},
     "output_type": "display_data"
    }
   ],
   "source": [
    "fig_monthly_spending_by_selected_codes_line_chart = px.line(df_expenses_by_selected_codes_by_month, x = 'Month', y = 'Amount', color = 'Code_Description')\n",
    "# See https://plotly.com/python/histograms/\n",
    "\n",
    "fig_monthly_spending_by_selected_codes_line_chart.write_html(chart_data_folder + '\\\\fig_monthly_spending_by_selected_codes_line_chart.html') \n",
    "fig_monthly_spending_by_selected_codes_line_chart.show()"
   ]
  }
 ],
 "metadata": {
  "kernelspec": {
   "display_name": "Python 3.10.4 ('ga15pyd')",
   "language": "python",
   "name": "python3"
  },
  "language_info": {
   "codemirror_mode": {
    "name": "ipython",
    "version": 3
   },
   "file_extension": ".py",
   "mimetype": "text/x-python",
   "name": "python",
   "nbconvert_exporter": "python",
   "pygments_lexer": "ipython3",
   "version": "3.10.4"
  },
  "orig_nbformat": 4,
  "vscode": {
   "interpreter": {
    "hash": "373fc5a02dc1a4f4d7122438e12fcda035e925b32ee1fe85dbff58fb3bdd1371"
   }
  }
 },
 "nbformat": 4,
 "nbformat_minor": 2
}
